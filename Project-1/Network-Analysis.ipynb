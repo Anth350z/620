{
 "cells": [
  {
   "cell_type": "markdown",
   "metadata": {},
   "source": [
    "#### Data 620 - Project 1 <br>June 19, 2019<br>Team 2: <ul> <li>Anthony Munoz</li> <li>Katie Evers</li> <li>Juliann McEachern</li> <li>Mia Siracusa</li></ul>\n",
    "\n",
    "<h1 align=\"center\">\"Network Analysis\"</h1>\n",
    "\n",
    "For your first project, you are asked to:\n",
    "1.  Identify and load a network dataset that has some categorical information available for each node.\n",
    "2.  For each of the nodes in the dataset, calculate degree centrality and eigenvector centrality.\n",
    "3.  Compare your centrality measures across your categorical groups.\n",
    "\n",
    "For example, using the [dataset](http://researchnews.osu.edu/archive/chains.htm) from a study of romantic relationships among high school students in Columbus, Ohio , you might want to determine if there are any differences in your calculated centrality measures between the two sexes.  You might use a t-test or another statistical measure to support your findings.\n",
    "You may work in a small group.  Your project should be delivered in an IPython Notebook, and posted in GitHub.  "
   ]
  },
  {
   "cell_type": "markdown",
   "metadata": {},
   "source": [
    "## Network Dataset Selection\n",
    "\n",
    "We choose to analyze NYC OpenData's [Women Resources Network Database](https://data.cityofnewyork.us/Social-Services/NYC-Women-s-Resource-Network-Database/pqg4-dm6b). The dataset includes 59 variables by columns and 1,147 rows as of the most recent web update on Nov 7, 2018.\n",
    "\n",
    "Our focus will be on the identified organizations that serve New York City women and families. We will also be examining this network relationships by **insert variable name here**. Each node contains categorical information on which borough the organization services.\n",
    "\n"
   ]
  },
  {
   "cell_type": "code",
   "execution_count": 22,
   "metadata": {},
   "outputs": [],
   "source": [
    "#importing the libraries \n",
    "import networkx as nx\n",
    "import pandas as pd\n",
    "import numpy as np\n",
    "\n",
    "# to import the socrata library you have to go to Anaconda terminal and install the package before importing \n",
    "# the library can be install using \"pip install sodapy\"\n",
    "from sodapy import Socrata\n",
    "import warnings \n",
    "\n",
    "#warnings.filterwarnings('ignore') UNHASH AFTER COMPLETION"
   ]
  },
  {
   "cell_type": "markdown",
   "metadata": {},
   "source": [
    "NYC OpenData was accessed using Socrata API. The Women Resources Network Database then was obtained from the client connection below and stored in a pandas dataframe. "
   ]
  },
  {
   "cell_type": "code",
   "execution_count": 23,
   "metadata": {},
   "outputs": [
    {
     "name": "stderr",
     "output_type": "stream",
     "text": [
      "WARNING:root:Requests made without an app_token will be subject to strict throttling limits.\n"
     ]
    }
   ],
   "source": [
    "client = Socrata(\"data.cityofnewyork.us\",None)\n",
    "results = client.get(\"pqg4-dm6b\", limit=2000)\n",
    "df = pd.DataFrame(results)"
   ]
  },
  {
   "cell_type": "code",
   "execution_count": 198,
   "metadata": {},
   "outputs": [
    {
     "data": {
      "text/html": [
       "<div>\n",
       "<style scoped>\n",
       "    .dataframe tbody tr th:only-of-type {\n",
       "        vertical-align: middle;\n",
       "    }\n",
       "\n",
       "    .dataframe tbody tr th {\n",
       "        vertical-align: top;\n",
       "    }\n",
       "\n",
       "    .dataframe thead th {\n",
       "        text-align: right;\n",
       "    }\n",
       "</style>\n",
       "<table border=\"1\" class=\"dataframe\">\n",
       "  <thead>\n",
       "    <tr style=\"text-align: right;\">\n",
       "      <th></th>\n",
       "      <th>org_name</th>\n",
       "      <th>borough</th>\n",
       "      <th>service_type</th>\n",
       "      <th>org</th>\n",
       "      <th>svc</th>\n",
       "      <th>bcolor</th>\n",
       "    </tr>\n",
       "  </thead>\n",
       "  <tbody>\n",
       "    <tr>\n",
       "      <th>0</th>\n",
       "      <td>Committed to Communities</td>\n",
       "      <td>manhattan</td>\n",
       "      <td>aging</td>\n",
       "      <td>16</td>\n",
       "      <td>1</td>\n",
       "      <td>red</td>\n",
       "    </tr>\n",
       "    <tr>\n",
       "      <th>1</th>\n",
       "      <td>The Family Center</td>\n",
       "      <td>manhattan</td>\n",
       "      <td>aging</td>\n",
       "      <td>18</td>\n",
       "      <td>1</td>\n",
       "      <td>red</td>\n",
       "    </tr>\n",
       "    <tr>\n",
       "      <th>2</th>\n",
       "      <td>New York City Office of the Public Advocate, B...</td>\n",
       "      <td>manhattan</td>\n",
       "      <td>aging</td>\n",
       "      <td>20</td>\n",
       "      <td>1</td>\n",
       "      <td>red</td>\n",
       "    </tr>\n",
       "    <tr>\n",
       "      <th>3</th>\n",
       "      <td>New York Women's Agenda</td>\n",
       "      <td>manhattan</td>\n",
       "      <td>aging</td>\n",
       "      <td>30</td>\n",
       "      <td>1</td>\n",
       "      <td>red</td>\n",
       "    </tr>\n",
       "    <tr>\n",
       "      <th>4</th>\n",
       "      <td>ICD-International Center for the Disabled</td>\n",
       "      <td>manhattan</td>\n",
       "      <td>aging</td>\n",
       "      <td>32</td>\n",
       "      <td>1</td>\n",
       "      <td>red</td>\n",
       "    </tr>\n",
       "  </tbody>\n",
       "</table>\n",
       "</div>"
      ],
      "text/plain": [
       "                                            org_name    borough service_type  \\\n",
       "0                           Committed to Communities  manhattan        aging   \n",
       "1                                  The Family Center  manhattan        aging   \n",
       "2  New York City Office of the Public Advocate, B...  manhattan        aging   \n",
       "3                            New York Women's Agenda  manhattan        aging   \n",
       "4          ICD-International Center for the Disabled  manhattan        aging   \n",
       "\n",
       "   org  svc bcolor  \n",
       "0   16    1    red  \n",
       "1   18    1    red  \n",
       "2   20    1    red  \n",
       "3   30    1    red  \n",
       "4   32    1    red  "
      ]
     },
     "execution_count": 198,
     "metadata": {},
     "output_type": "execute_result"
    }
   ],
   "source": [
    "# identify inputs \n",
    "borough = ['manhattan','queens','brooklyn','bronx','staten_island']\n",
    "service_type = ['aging', 'anti_discrimination_human_rights', 'arts_culture','business', 'child_care_parent_information',\n",
    "                'community_service_volunteerism', 'counseling_support_groups','disabilities', 'domestic_violence', \n",
    "                'education', 'employment_job_training', 'faith_based_organization', 'foundation','health', 'homelessness', \n",
    "                'housing', 'immigration', 'legal_services', 'lesbian_gay_bisexual_and_or_transgender','new_york_city_agency', \n",
    "                'none_of_the_above', 'nonprofit', 'other_government_organization','personal_finance_financial_education',\n",
    "               'professional_association','veterans_military_families', 'victim_services', 'youth_services']\n",
    "org_info = ['organizationname']\n",
    "org_info.extend(service_type)\n",
    "\n",
    "# create dictionary from service_type\n",
    "org_values = range(1,len(df['organizationname'])+1)\n",
    "org_dict = dict(zip(df['organizationname'], org_values))\n",
    "\n",
    "svc_values = range(1,29)\n",
    "svc_dict = dict(zip(service_type, svc_values))\n",
    "\n",
    "borough_color = ['red', 'blue', 'green', 'yellow', 'purple']\n",
    "borough_dict = dict(zip(borough, borough_color))\n",
    "\n",
    "# merge dataframe to create network \n",
    "borough_melt = df.melt(id_vars=list(org_info), value_vars=list(borough), var_name='borough', value_name='boroughY/N')\n",
    "service_melt = borough_melt.melt(id_vars=['organizationname', 'borough', 'boroughY/N'], value_vars=list(service_type), var_name='service_type', value_name='service_typeY/N')\n",
    "filter_melt = service_melt[(service_melt['service_typeY/N'] == 'Y') & (service_melt['boroughY/N'] == 'Y')]\n",
    "network = filter_melt.drop(['service_typeY/N', 'boroughY/N'], axis=1).reset_index().drop('index', axis=1)\n",
    "network=network.rename(columns={'organizationname': 'org_name'})\n",
    "\n",
    "# view transformed network description\n",
    "\n",
    "network['org'] = network['org_name'].map(org_dict)\n",
    "network['svc'] = network['service_type'].map(svc_dict)\n",
    "network['bcolor'] = network['borough'].map(borough_dict)\n",
    "\n",
    "\n",
    "network.head()\n"
   ]
  },
  {
   "cell_type": "code",
   "execution_count": 224,
   "metadata": {
    "scrolled": true
   },
   "outputs": [
    {
     "name": "stdout",
     "output_type": "stream",
     "text": [
      "Name: \n",
      "Type: Graph\n",
      "Number of nodes: 1136\n",
      "Number of edges: 4236\n",
      "Average degree:   7.4577\n"
     ]
    }
   ],
   "source": [
    "import networkx as nx\n",
    "\n",
    "\n",
    "edges = pd.DataFrame({'source': network.org,\n",
    "                      'target': network.svc,\n",
    "                      'color': network.bcolor})\n",
    "\n",
    "nodes = pd.DataFrame({'node' : network.org,\n",
    "                      'name' : network.org_name})\n",
    "\n",
    "G = nx.from_pandas_edgelist(edges)\n",
    "\n",
    "G.add_nodes_from({'node':network.org,\n",
    "                  'name':network.org_name,\n",
    "                  'borough':network.borough})\n",
    "\n",
    "\n",
    "print(nx.info(G))\n",
    "\n"
   ]
  },
  {
   "cell_type": "code",
   "execution_count": 222,
   "metadata": {},
   "outputs": [
    {
     "ename": "AttributeError",
     "evalue": "'Graph' object has no attribute 'set_node_attributes'",
     "output_type": "error",
     "traceback": [
      "\u001b[1;31m---------------------------------------------------------------------------\u001b[0m",
      "\u001b[1;31mAttributeError\u001b[0m                            Traceback (most recent call last)",
      "\u001b[1;32m<ipython-input-222-994feb55447a>\u001b[0m in \u001b[0;36m<module>\u001b[1;34m()\u001b[0m\n\u001b[0;32m      7\u001b[0m                   'borough':network.borough})\n\u001b[0;32m      8\u001b[0m \u001b[1;33m\u001b[0m\u001b[0m\n\u001b[1;32m----> 9\u001b[1;33m \u001b[0mG\u001b[0m\u001b[1;33m.\u001b[0m\u001b[0mset_node_attributes\u001b[0m\u001b[1;33m(\u001b[0m\u001b[1;34m'node'\u001b[0m\u001b[1;33m,\u001b[0m \u001b[0mname\u001b[0m\u001b[1;33m=\u001b[0m\u001b[1;34m'name'\u001b[0m\u001b[1;33m)\u001b[0m\u001b[1;33m\u001b[0m\u001b[1;33m\u001b[0m\u001b[0m\n\u001b[0m",
      "\u001b[1;31mAttributeError\u001b[0m: 'Graph' object has no attribute 'set_node_attributes'"
     ]
    }
   ],
   "source": [
    "###Attempt:\n",
    "\n",
    "#edges = pd.DataFrame({'source': network.org,\n",
    "                      #'target': network.svc})\n",
    "\n",
    "#G = nx.from_pandas_edgelist(edges)\n",
    "\n",
    "\n",
    "\n",
    "#for i in sorted(G.nodes()):\n",
    "    #G.node[i]['name'] = nodes.name[i]\n",
    "\n",
    "#nx.set_node_attributes(G, pd.Series(nodes.name, index=nodes.node).to_dict(), 'name')\n",
    "\n",
    "#nx.set_node_attributes(G, 'node', name='name')\n"
   ]
  },
  {
   "cell_type": "code",
   "execution_count": 225,
   "metadata": {},
   "outputs": [
    {
     "data": {
      "text/html": [
       "\n",
       "        <iframe\n",
       "            width=\"100%\"\n",
       "            height=\"750px\"\n",
       "            src=\"network.html\"\n",
       "            frameborder=\"0\"\n",
       "            allowfullscreen\n",
       "        ></iframe>\n",
       "        "
      ],
      "text/plain": [
       "<IPython.lib.display.IFrame at 0x195431690f0>"
      ]
     },
     "execution_count": 225,
     "metadata": {},
     "output_type": "execute_result"
    }
   ],
   "source": [
    "from pyvis import network as net\n",
    "g=net.Network(height=\"750px\", width=\"100%\", notebook=True)\n",
    "nxg = nx.Graph(G)\n",
    "g.from_nx(nxg)\n",
    "g.show('network.html')"
   ]
  }
 ],
 "metadata": {
  "kernelspec": {
   "display_name": "Python 3",
   "language": "python",
   "name": "python3"
  },
  "language_info": {
   "codemirror_mode": {
    "name": "ipython",
    "version": 3
   },
   "file_extension": ".py",
   "mimetype": "text/x-python",
   "name": "python",
   "nbconvert_exporter": "python",
   "pygments_lexer": "ipython3",
   "version": "3.7.3"
  }
 },
 "nbformat": 4,
 "nbformat_minor": 2
}
