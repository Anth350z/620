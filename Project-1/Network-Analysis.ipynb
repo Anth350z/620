{
 "cells": [
  {
   "cell_type": "markdown",
   "metadata": {},
   "source": [
    "#### Data 620 - Project 1 <br> Team 2  <br> June 26, 2019\n",
    "\n",
    "## <center> Network Analysis </center>\n",
    "\n",
    "For your first project, you are asked to:\n",
    "1.  Identify and load a network dataset that has some categorical information available for each node.\n",
    "2.  For each of the nodes in the dataset, calculate degree centrality and eigenvector centrality.\n",
    "3.  Compare your centrality measures across your categorical groups.\n",
    "\n",
    "For example, using the [dataset](http://researchnews.osu.edu/archive/chains.htm) from a study of romantic relationships among high school students in Columbus, Ohio , you might want to determine if there are any differences in your calculated centrality measures between the two sexes.  You might use a t-test or another statistical measure to support your findings.\n",
    "You may work in a small group.  Your project should be delivered in an IPython Notebook, and posted in GitHub.  Your project is due end of day Monday, June 26th. You and your team should created a video presentation about your project. You should be ready to present your project in our Meet-up on Tuesday, June 27th. "
   ]
  },
  {
   "cell_type": "code",
   "execution_count": null,
   "metadata": {},
   "outputs": [],
   "source": []
  }
 ],
 "metadata": {
  "kernelspec": {
   "display_name": "Python 2",
   "language": "python",
   "name": "python2"
  }
 },
 "nbformat": 4,
 "nbformat_minor": 2
}
