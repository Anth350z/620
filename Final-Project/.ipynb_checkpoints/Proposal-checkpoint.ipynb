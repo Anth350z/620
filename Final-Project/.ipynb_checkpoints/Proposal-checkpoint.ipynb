{
 "cells": [
  {
   "cell_type": "markdown",
   "metadata": {},
   "source": [
    "#### Data 620 - Final Project Proposal<br> Team 2  <br> July 14, 2019\n",
    "\n",
    "## <center> Final Project Proposal </center>\n",
    "\n",
    "Your proposal should describe at a high level what you’re seeking to accomplish, and your motivation for performing this analysis.  A guiding question or hypothesis to test is one good way to start.  If you are going to work in a small group (encouraged!), you should also list your partners’ names. \n",
    "\n",
    "You should briefly describe your data sources, plan for doing the work, and up front concerns.  If you are working in a group, please describe the roles and responsibilities of each group member.\n",
    "\n",
    "We’ll treat this proposal as a planning document, not a blue print containing “firm, fixed requirements.” Your final project proposal is due on Sunday, July 14th. "
   ]
  },
  {
   "cell_type": "code",
   "execution_count": null,
   "metadata": {},
   "outputs": [],
   "source": []
  }
 ],
 "metadata": {
  "kernelspec": {
   "display_name": "Python 2",
   "language": "python",
   "name": "python2"
  }
 },
 "nbformat": 4,
 "nbformat_minor": 2
}
