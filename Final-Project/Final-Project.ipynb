{
 "cells": [
  {
   "cell_type": "markdown",
   "metadata": {},
   "source": [
    "#### Data 620 - Final Project <br>July 17, 2019<br>Team 2: <ul><li>Anthony Munoz</li> <li>Katie Evers</li> <li>Juliann McEachern</li> <li>Mia Siracusa</li></ul>\n",
    "\n",
    "<h1 align=\"center\">Final Project</h1>\n",
    "\n",
    "#### Deliverables Schedule:\n",
    "\n",
    "| Deliverable | Points   | Deliverable |\n",
    "|------|------|------|\n",
    "|Final Project Proposal|Sunday July 16|   25  |\n",
    "|Final Project|Thursday July 20|   150  |\n",
    "|Final Project Presentation|By Video|   50  |\n",
    "\n",
    "\n",
    "#### Policy on Collaboration \n",
    "You may work in a team of up to three people. Each project team member is responsible for understanding and being able to explain all of the submitted project code. Remember that you can take work that you find elsewhere as a base to build on, but you need to acknowledge the source, so that I base your grade on what you contributed, not on what you started with!\n",
    "\n",
    "#### Final Project Proposal \n",
    "Your proposal should describe at a high level what you’re seeking to accomplish, and your motivation for performing this analysis. A guiding question or hypothesis to test is one good way to start. If you are going to work in a small group (encouraged!), you should also list your partners’ names. \n",
    "\n",
    "You should briefly describe your data sources; plan for doing the work, and up front concerns. If you are working in a group, please describe the roles and responsibilities of each group member. We’ll treat this proposal as a planning document, not a blue print containing \"firm, fixed requirements.\"\n",
    "\n",
    "#### Final Project \n",
    "Your project should incorporate one or both of the two main themes of this course: network analysis and text processing. You need to show all of your work in a coherent workflow, and in a reproducible format, such as an IPython Notebook or an R Markdown document. If you are building a model or models, explain how you evaluate the “goodness” of the chosen model and parameters. \n",
    "\n",
    "#### Final Project Presentation \n",
    "We’ll schedule a short presentation for each team, either in our last scheduled meet-up or in additional office hours to be scheduled during the last week of classes.\n"
   ]
  }
 ],
 "metadata": {
  "kernelspec": {
   "display_name": "Python 3",
   "language": "python",
   "name": "python3"
  },
  "language_info": {
   "codemirror_mode": {
    "name": "ipython",
    "version": 3
   },
   "file_extension": ".py",
   "mimetype": "text/x-python",
   "name": "python",
   "nbconvert_exporter": "python",
   "pygments_lexer": "ipython3",
   "version": "3.7.3"
  }
 },
 "nbformat": 4,
 "nbformat_minor": 2
}
