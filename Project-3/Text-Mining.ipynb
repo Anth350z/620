{
 "cells": [
  {
   "cell_type": "markdown",
   "metadata": {},
   "source": [
    "#### Data 620 - Project 3 <br>July 10, 2019<br>Team 2: <ul><li>Anthony Munoz</li> <li>Katie Evers</li> <li>Juliann McEachern</li> <li>Mia Siracusa</li></ul>\n",
    "\n",
    "<h1 align=\"center\">Network Analysis: Text Mining </h1>\n",
    "\n",
    "\n",
    "## Getting Started\n",
    "\n",
    "Prompt: Using any of the three classifiers described in chapter 6 of Natural Language Processing with Python, and any features you can think of, build the best name gender classifier you can. \n",
    "\n",
    "#### Python Dependencies"
   ]
  },
  {
   "cell_type": "code",
   "execution_count": 49,
   "metadata": {},
   "outputs": [],
   "source": [
    "# basic requirements \n",
    "import pandas as pd, numpy as np, random, nltk\n",
    "from nltk.corpus import names # data source \n",
    "\n",
    "# sklearn packages\n",
    "from sklearn.naive_bayes import MultinomialNB\n",
    "from sklearn.model_selection import train_test_split\n",
    "from sklearn.feature_extraction import DictVectorizer\n",
    "from sklearn.linear_model import SGDClassifier\n",
    "from sklearn.ensemble import RandomForestClassifier"
   ]
  },
  {
   "cell_type": "markdown",
   "metadata": {},
   "source": [
    "#### Upload and Label Data"
   ]
  },
  {
   "cell_type": "code",
   "execution_count": 2,
   "metadata": {},
   "outputs": [],
   "source": [
    "# retrive names from the nltk corpus\n",
    "labeled_names = ([(name, 'male') for name in names.words('male.txt')] +\n",
    "[(name, 'female') for name in names.words('female.txt')])\n",
    "\n",
    "# randomly shuffle the names\n",
    "np.random.seed(1)\n",
    "random.shuffle(labeled_names)"
   ]
  },
  {
   "cell_type": "code",
   "execution_count": 3,
   "metadata": {},
   "outputs": [
    {
     "data": {
      "text/plain": [
       "[('Izabel', 'female'),\n",
       " ('Zachary', 'male'),\n",
       " ('Rosalynd', 'female'),\n",
       " ('Blinni', 'female'),\n",
       " ('Terrye', 'female'),\n",
       " ('Goldina', 'female'),\n",
       " ('Katee', 'female'),\n",
       " ('Norina', 'female'),\n",
       " ('Sancho', 'male'),\n",
       " ('Anna-Diane', 'female')]"
      ]
     },
     "execution_count": 3,
     "metadata": {},
     "output_type": "execute_result"
    }
   ],
   "source": [
    "labeled_names[:10]"
   ]
  },
  {
   "cell_type": "markdown",
   "metadata": {},
   "source": [
    "#### Subset Corpus\n",
    "\n",
    "We split the names corpus into three subsets:\n",
    "1.  Test Set (500 words)\n",
    "2.  Dev-test (500 words)\n",
    "3.  Training Set (Remaining words)"
   ]
  },
  {
   "cell_type": "code",
   "execution_count": 4,
   "metadata": {},
   "outputs": [
    {
     "name": "stdout",
     "output_type": "stream",
     "text": [
      "Testing names count: 500 \n",
      "Development names count: 500 \n",
      "Training names count: 6944\n"
     ]
    }
   ],
   "source": [
    "train_names = labeled_names[1000:]\n",
    "devtest_names = labeled_names[500:1000]\n",
    "test_names = labeled_names[:500]\n",
    "\n",
    "print('Testing names count:',len(test_names),'\\nDevelopment names count:',len(devtest_names),'\\nTraining names count:', len(train_names))"
   ]
  },
  {
   "cell_type": "markdown",
   "metadata": {},
   "source": [
    "## Name-Gender Classifier\n",
    "\n",
    "Task: Start with the example name gender classifier & make incremental improvements. Use the dev-test set to check your progress. Once you are satisfied with your classifier, check its final performance on the test set. \n",
    "\n",
    "#### Example Name-Gender Classifier\n",
    "\n",
    "We used the book example for our first attempt. The function shows us how to create basic features to classify our train and test sets."
   ]
  },
  {
   "cell_type": "code",
   "execution_count": 131,
   "metadata": {},
   "outputs": [
    {
     "name": "stdout",
     "output_type": "stream",
     "text": [
      "Train Accuracy 0.763\n",
      "Example DevTest Accuracy: 0.758\n",
      "Example Test Set Accuracy: 0.766\n"
     ]
    }
   ],
   "source": [
    "# Create function\n",
    "def gender_features(word):\n",
    "    return {'last_letter': word[-1]}\n",
    "\n",
    "# Apply function to train and test data\n",
    "feature_test = [(gender_features(n), gender) for (n, gender) in test_names]\n",
    "feature_devtest = [(gender_features(n), gender) for (n, gender) in devtest_names]\n",
    "feature_train = [(gender_features(n), gender) for (n, gender) in train_names]\n",
    "\n",
    "# Apply naive Bayes algorithm classifier\n",
    "classifier = nltk.NaiveBayesClassifier.train(feature_train)\n",
    "print('Train Accuracy', round(nltk.classify.accuracy(classifier, feature_train),3)) \n",
    "print('Example DevTest Accuracy:', round(nltk.classify.accuracy(classifier, feature_devtest),3)) \n",
    "print('Example Test Set Accuracy:', round(nltk.classify.accuracy(classifier, feature_test),3)) "
   ]
  },
  {
   "cell_type": "markdown",
   "metadata": {},
   "source": [
    "#### Incremental Improvements\n",
    "\n",
    "We found our most informative features, shown below, to create an informative analysis of observed patterns."
   ]
  },
  {
   "cell_type": "code",
   "execution_count": 6,
   "metadata": {
    "scrolled": true
   },
   "outputs": [
    {
     "name": "stdout",
     "output_type": "stream",
     "text": [
      "Most Informative Features\n",
      "             last_letter = 'a'            female : male   =     34.3 : 1.0\n",
      "             last_letter = 'k'              male : female =     29.9 : 1.0\n",
      "             last_letter = 'p'              male : female =     17.6 : 1.0\n",
      "             last_letter = 'f'              male : female =     15.3 : 1.0\n",
      "             last_letter = 'v'              male : female =     11.2 : 1.0\n",
      "             last_letter = 'd'              male : female =     10.1 : 1.0\n",
      "             last_letter = 'm'              male : female =      9.0 : 1.0\n",
      "             last_letter = 'o'              male : female =      7.6 : 1.0\n",
      "             last_letter = 'r'              male : female =      7.1 : 1.0\n",
      "             last_letter = 'w'              male : female =      5.1 : 1.0\n",
      "None\n"
     ]
    }
   ],
   "source": [
    "print(classifier.show_most_informative_features())"
   ]
  },
  {
   "cell_type": "markdown",
   "metadata": {},
   "source": [
    "We took these informative features to improve our second gender functions in an attempt to improve the preditor accurracy of our model.\n",
    "\n",
    "We used the following pattern combinations in order to improve the gender classification:\n",
    "\n",
    "1. Second letter in the name.\n",
    "2. First 3 letters in the name.\n",
    "3. Middle letter of the name.\n",
    "4. Last letter of the name.\n",
    "5. Last 2 letters of the name.\n",
    "6. First 2 letters with the last letter of the name."
   ]
  },
  {
   "cell_type": "code",
   "execution_count": 7,
   "metadata": {},
   "outputs": [],
   "source": [
    "# Improvements function\n",
    "\n",
    "def gender_features_new(word):\n",
    "    word = word.lower()\n",
    "    mid = int(len(word)/2)\n",
    "    return {'comb1': word[1],\n",
    "            'comb2': word[:3],\n",
    "            'comb3': word[mid:mid+5],\n",
    "            'comb4': word[-1],\n",
    "            'comb5': word[-2],\n",
    "            'comb6': word[:2]+word[-1]}"
   ]
  },
  {
   "cell_type": "markdown",
   "metadata": {},
   "source": [
    "We first worked with the training and the development datasets until we felt confident with our model. Then, we applied function on the test dataset."
   ]
  },
  {
   "cell_type": "code",
   "execution_count": 8,
   "metadata": {},
   "outputs": [],
   "source": [
    "# Apply function to train, devtest, and test datasets\n",
    "train_set = [(gender_features_new(n), gender) for (n, gender) in train_names]\n",
    "devtest_set = [(gender_features_new(n), gender) for (n, gender) in devtest_names]\n",
    "test_set = [(gender_features_new(n), gender) for (n, gender) in test_names]"
   ]
  },
  {
   "cell_type": "markdown",
   "metadata": {},
   "source": [
    "To improve our model, we used the following loop to iterate through the devtest names and call the gender functions to identify which of our gender prediction were off."
   ]
  },
  {
   "cell_type": "code",
   "execution_count": 9,
   "metadata": {},
   "outputs": [],
   "source": [
    "errors = []\n",
    "for (name, tag) in devtest_names:\n",
    "    guess = classifier.classify(gender_features_new(name))\n",
    "    if guess != tag:\n",
    "        errors.append( (tag, guess, name) )"
   ]
  },
  {
   "cell_type": "markdown",
   "metadata": {},
   "source": [
    "Here, we observe if they are some pattern on the names and that why we start creating combination of letters and selecting those that improve our prediction algorithm."
   ]
  },
  {
   "cell_type": "code",
   "execution_count": 10,
   "metadata": {},
   "outputs": [
    {
     "name": "stdout",
     "output_type": "stream",
     "text": [
      "{'correct': 'male', 'guessing': 'female', 'name': 'Aaron'}\n",
      "{'correct': 'male', 'guessing': 'female', 'name': 'Abdulkarim'}\n",
      "{'correct': 'male', 'guessing': 'female', 'name': 'Abraham'}\n",
      "{'correct': 'male', 'guessing': 'female', 'name': 'Aditya'}\n",
      "{'correct': 'male', 'guessing': 'female', 'name': 'Adlai'}\n",
      "{'correct': 'male', 'guessing': 'female', 'name': 'Aldrich'}\n",
      "{'correct': 'male', 'guessing': 'female', 'name': 'Alejandro'}\n",
      "{'correct': 'male', 'guessing': 'female', 'name': 'Alfonso'}\n",
      "{'correct': 'male', 'guessing': 'female', 'name': 'Ambrose'}\n",
      "{'correct': 'male', 'guessing': 'female', 'name': 'Andres'}\n",
      "{'correct': 'male', 'guessing': 'female', 'name': 'Arron'}\n",
      "{'correct': 'male', 'guessing': 'female', 'name': 'Augusto'}\n",
      "{'correct': 'male', 'guessing': 'female', 'name': 'Avrom'}\n",
      "{'correct': 'male', 'guessing': 'female', 'name': 'Baily'}\n",
      "{'correct': 'male', 'guessing': 'female', 'name': 'Baird'}\n",
      "{'correct': 'male', 'guessing': 'female', 'name': 'Barnie'}\n",
      "{'correct': 'male', 'guessing': 'female', 'name': 'Bear'}\n",
      "{'correct': 'male', 'guessing': 'female', 'name': 'Bing'}\n",
      "{'correct': 'male', 'guessing': 'female', 'name': 'Blake'}\n",
      "{'correct': 'male', 'guessing': 'female', 'name': 'Blare'}\n",
      "{'correct': 'male', 'guessing': 'female', 'name': 'Bradford'}\n",
      "{'correct': 'male', 'guessing': 'female', 'name': 'Brady'}\n",
      "{'correct': 'male', 'guessing': 'female', 'name': 'Brinkley'}\n",
      "{'correct': 'male', 'guessing': 'female', 'name': 'Buster'}\n",
      "{'correct': 'male', 'guessing': 'female', 'name': 'Butler'}\n",
      "{'correct': 'male', 'guessing': 'female', 'name': 'Carlo'}\n",
      "{'correct': 'male', 'guessing': 'female', 'name': 'Carson'}\n",
      "{'correct': 'male', 'guessing': 'female', 'name': 'Cecil'}\n",
      "{'correct': 'male', 'guessing': 'female', 'name': 'Chaddie'}\n",
      "{'correct': 'male', 'guessing': 'female', 'name': 'Charles'}\n",
      "{'correct': 'male', 'guessing': 'female', 'name': 'Chaunce'}\n",
      "{'correct': 'male', 'guessing': 'female', 'name': 'Christophe'}\n",
      "{'correct': 'male', 'guessing': 'female', 'name': 'Clair'}\n",
      "{'correct': 'male', 'guessing': 'female', 'name': 'Clement'}\n",
      "{'correct': 'male', 'guessing': 'female', 'name': 'Clifton'}\n",
      "{'correct': 'male', 'guessing': 'female', 'name': 'Cobby'}\n",
      "{'correct': 'male', 'guessing': 'female', 'name': 'Colbert'}\n",
      "{'correct': 'male', 'guessing': 'female', 'name': 'Coleman'}\n",
      "{'correct': 'male', 'guessing': 'female', 'name': 'Conan'}\n",
      "{'correct': 'male', 'guessing': 'female', 'name': 'Daren'}\n",
      "{'correct': 'male', 'guessing': 'female', 'name': 'Darin'}\n",
      "{'correct': 'male', 'guessing': 'female', 'name': 'Davy'}\n",
      "{'correct': 'male', 'guessing': 'female', 'name': 'Derrin'}\n",
      "{'correct': 'male', 'guessing': 'female', 'name': 'Donny'}\n",
      "{'correct': 'male', 'guessing': 'female', 'name': 'Dorian'}\n",
      "{'correct': 'male', 'guessing': 'female', 'name': 'Durante'}\n",
      "{'correct': 'male', 'guessing': 'female', 'name': 'Eberhard'}\n",
      "{'correct': 'male', 'guessing': 'female', 'name': 'Elihu'}\n",
      "{'correct': 'male', 'guessing': 'female', 'name': 'Emmit'}\n",
      "{'correct': 'male', 'guessing': 'female', 'name': 'Ender'}\n",
      "{'correct': 'male', 'guessing': 'female', 'name': 'Ewan'}\n",
      "{'correct': 'male', 'guessing': 'female', 'name': 'Ewart'}\n",
      "{'correct': 'male', 'guessing': 'female', 'name': 'Ezechiel'}\n",
      "{'correct': 'male', 'guessing': 'female', 'name': 'Ferdie'}\n",
      "{'correct': 'male', 'guessing': 'female', 'name': 'Fleming'}\n",
      "{'correct': 'male', 'guessing': 'female', 'name': 'Flipper'}\n",
      "{'correct': 'male', 'guessing': 'female', 'name': 'French'}\n",
      "{'correct': 'male', 'guessing': 'female', 'name': 'Gabriele'}\n",
      "{'correct': 'male', 'guessing': 'female', 'name': 'Gail'}\n",
      "{'correct': 'male', 'guessing': 'female', 'name': 'Gardener'}\n",
      "{'correct': 'male', 'guessing': 'female', 'name': 'Gardiner'}\n",
      "{'correct': 'male', 'guessing': 'female', 'name': 'Garvy'}\n",
      "{'correct': 'male', 'guessing': 'female', 'name': 'Gaven'}\n",
      "{'correct': 'male', 'guessing': 'female', 'name': 'Gearard'}\n",
      "{'correct': 'male', 'guessing': 'female', 'name': 'Geo'}\n",
      "{'correct': 'male', 'guessing': 'female', 'name': 'Gil'}\n",
      "{'correct': 'male', 'guessing': 'female', 'name': 'Giovanne'}\n",
      "{'correct': 'male', 'guessing': 'female', 'name': 'Giraud'}\n",
      "{'correct': 'male', 'guessing': 'female', 'name': 'Goddard'}\n",
      "{'correct': 'male', 'guessing': 'female', 'name': 'Goddart'}\n",
      "{'correct': 'male', 'guessing': 'female', 'name': 'Grant'}\n",
      "{'correct': 'male', 'guessing': 'female', 'name': 'Griff'}\n",
      "{'correct': 'male', 'guessing': 'female', 'name': 'Guido'}\n",
      "{'correct': 'male', 'guessing': 'female', 'name': 'Hakeem'}\n",
      "{'correct': 'male', 'guessing': 'female', 'name': 'Hakim'}\n",
      "{'correct': 'male', 'guessing': 'female', 'name': 'Harlin'}\n",
      "{'correct': 'male', 'guessing': 'female', 'name': 'Harry'}\n",
      "{'correct': 'male', 'guessing': 'female', 'name': 'Hart'}\n",
      "{'correct': 'male', 'guessing': 'female', 'name': 'Higgins'}\n",
      "{'correct': 'male', 'guessing': 'female', 'name': 'Hodge'}\n",
      "{'correct': 'male', 'guessing': 'female', 'name': 'Horatio'}\n",
      "{'correct': 'male', 'guessing': 'female', 'name': 'Humbert'}\n",
      "{'correct': 'male', 'guessing': 'female', 'name': 'Israel'}\n",
      "{'correct': 'male', 'guessing': 'female', 'name': 'Jacob'}\n",
      "{'correct': 'male', 'guessing': 'female', 'name': 'Jeb'}\n",
      "{'correct': 'male', 'guessing': 'female', 'name': 'Jeffie'}\n",
      "{'correct': 'male', 'guessing': 'female', 'name': 'Jesse'}\n",
      "{'correct': 'male', 'guessing': 'female', 'name': 'Karel'}\n",
      "{'correct': 'male', 'guessing': 'female', 'name': 'Kincaid'}\n",
      "{'correct': 'male', 'guessing': 'female', 'name': 'Konstantin'}\n",
      "{'correct': 'male', 'guessing': 'female', 'name': 'Kristian'}\n",
      "{'correct': 'male', 'guessing': 'female', 'name': 'Lars'}\n",
      "{'correct': 'male', 'guessing': 'female', 'name': 'Laurence'}\n",
      "{'correct': 'male', 'guessing': 'female', 'name': 'Laurie'}\n",
      "{'correct': 'male', 'guessing': 'female', 'name': 'Lennie'}\n",
      "{'correct': 'male', 'guessing': 'female', 'name': 'Leon'}\n",
      "{'correct': 'male', 'guessing': 'female', 'name': 'Marcellus'}\n",
      "{'correct': 'male', 'guessing': 'female', 'name': 'Marcelo'}\n",
      "{'correct': 'male', 'guessing': 'female', 'name': 'Marchall'}\n",
      "{'correct': 'male', 'guessing': 'female', 'name': 'Mario'}\n",
      "{'correct': 'male', 'guessing': 'female', 'name': 'Mark'}\n",
      "{'correct': 'male', 'guessing': 'female', 'name': 'Marko'}\n",
      "{'correct': 'male', 'guessing': 'female', 'name': 'Martie'}\n",
      "{'correct': 'male', 'guessing': 'female', 'name': 'Mateo'}\n",
      "{'correct': 'male', 'guessing': 'female', 'name': 'Matt'}\n",
      "{'correct': 'male', 'guessing': 'female', 'name': 'Matthus'}\n",
      "{'correct': 'male', 'guessing': 'female', 'name': 'Maury'}\n",
      "{'correct': 'male', 'guessing': 'female', 'name': 'Meyer'}\n",
      "{'correct': 'male', 'guessing': 'female', 'name': 'Millicent'}\n",
      "{'correct': 'male', 'guessing': 'female', 'name': 'Mortimer'}\n",
      "{'correct': 'male', 'guessing': 'female', 'name': 'Myles'}\n",
      "{'correct': 'male', 'guessing': 'female', 'name': 'Normie'}\n",
      "{'correct': 'male', 'guessing': 'female', 'name': 'Oran'}\n",
      "{'correct': 'male', 'guessing': 'female', 'name': 'Otes'}\n",
      "{'correct': 'male', 'guessing': 'female', 'name': 'Padraig'}\n",
      "{'correct': 'male', 'guessing': 'female', 'name': 'Parker'}\n",
      "{'correct': 'male', 'guessing': 'female', 'name': 'Parrnell'}\n",
      "{'correct': 'male', 'guessing': 'female', 'name': 'Pasquale'}\n",
      "{'correct': 'male', 'guessing': 'female', 'name': 'Pat'}\n",
      "{'correct': 'male', 'guessing': 'female', 'name': 'Pearce'}\n",
      "{'correct': 'male', 'guessing': 'female', 'name': 'Phil'}\n",
      "{'correct': 'male', 'guessing': 'female', 'name': 'Prentice'}\n",
      "{'correct': 'male', 'guessing': 'female', 'name': 'Radcliffe'}\n",
      "{'correct': 'male', 'guessing': 'female', 'name': 'Rand'}\n",
      "{'correct': 'male', 'guessing': 'female', 'name': 'Ravil'}\n",
      "{'correct': 'male', 'guessing': 'female', 'name': 'Redmond'}\n",
      "{'correct': 'male', 'guessing': 'female', 'name': 'Reginald'}\n",
      "{'correct': 'male', 'guessing': 'female', 'name': 'Renault'}\n",
      "{'correct': 'male', 'guessing': 'female', 'name': 'Reynard'}\n",
      "{'correct': 'male', 'guessing': 'female', 'name': 'Richardo'}\n",
      "{'correct': 'male', 'guessing': 'female', 'name': 'Robbert'}\n",
      "{'correct': 'male', 'guessing': 'female', 'name': 'Robinson'}\n",
      "{'correct': 'male', 'guessing': 'female', 'name': 'Rocky'}\n",
      "{'correct': 'male', 'guessing': 'female', 'name': 'Roddy'}\n",
      "{'correct': 'male', 'guessing': 'female', 'name': 'Rogers'}\n",
      "{'correct': 'male', 'guessing': 'female', 'name': 'Rolfe'}\n",
      "{'correct': 'male', 'guessing': 'female', 'name': 'Rollins'}\n",
      "{'correct': 'male', 'guessing': 'female', 'name': 'Roosevelt'}\n",
      "{'correct': 'male', 'guessing': 'female', 'name': 'Rudolph'}\n",
      "{'correct': 'male', 'guessing': 'female', 'name': 'Rufus'}\n",
      "{'correct': 'male', 'guessing': 'female', 'name': 'Russ'}\n",
      "{'correct': 'male', 'guessing': 'female', 'name': 'Sam'}\n",
      "{'correct': 'male', 'guessing': 'female', 'name': 'Sammy'}\n",
      "{'correct': 'male', 'guessing': 'female', 'name': 'Sampson'}\n",
      "{'correct': 'male', 'guessing': 'female', 'name': 'Sandro'}\n",
      "{'correct': 'male', 'guessing': 'female', 'name': 'Saul'}\n",
      "{'correct': 'male', 'guessing': 'female', 'name': 'Sauncho'}\n",
      "{'correct': 'male', 'guessing': 'female', 'name': 'Selby'}\n",
      "{'correct': 'male', 'guessing': 'female', 'name': 'Shalom'}\n",
      "{'correct': 'male', 'guessing': 'female', 'name': 'Shannon'}\n",
      "{'correct': 'male', 'guessing': 'female', 'name': 'Shelby'}\n",
      "{'correct': 'male', 'guessing': 'female', 'name': 'Shepperd'}\n",
      "{'correct': 'male', 'guessing': 'female', 'name': 'Sherlock'}\n",
      "{'correct': 'male', 'guessing': 'female', 'name': 'Sigfrid'}\n",
      "{'correct': 'male', 'guessing': 'female', 'name': 'Simmonds'}\n",
      "{'correct': 'male', 'guessing': 'female', 'name': 'Skippy'}\n",
      "{'correct': 'male', 'guessing': 'female', 'name': 'Stan'}\n",
      "{'correct': 'male', 'guessing': 'female', 'name': 'Stephan'}\n",
      "{'correct': 'male', 'guessing': 'female', 'name': 'Stillmann'}\n",
      "{'correct': 'male', 'guessing': 'female', 'name': 'Tabbie'}\n",
      "{'correct': 'male', 'guessing': 'female', 'name': 'Tann'}\n",
      "{'correct': 'male', 'guessing': 'female', 'name': 'Tedd'}\n",
      "{'correct': 'male', 'guessing': 'female', 'name': 'Tedrick'}\n",
      "{'correct': 'male', 'guessing': 'female', 'name': 'Thatcher'}\n",
      "{'correct': 'male', 'guessing': 'female', 'name': 'Thorpe'}\n",
      "{'correct': 'male', 'guessing': 'female', 'name': 'Timotheus'}\n",
      "{'correct': 'male', 'guessing': 'female', 'name': 'Tirrell'}\n",
      "{'correct': 'male', 'guessing': 'female', 'name': 'Titus'}\n",
      "{'correct': 'male', 'guessing': 'female', 'name': 'Tobin'}\n",
      "{'correct': 'male', 'guessing': 'female', 'name': 'Tommie'}\n",
      "{'correct': 'male', 'guessing': 'female', 'name': 'Tony'}\n",
      "{'correct': 'male', 'guessing': 'female', 'name': 'Towney'}\n",
      "{'correct': 'male', 'guessing': 'female', 'name': 'Townsend'}\n",
      "{'correct': 'male', 'guessing': 'female', 'name': 'Traver'}\n",
      "{'correct': 'male', 'guessing': 'female', 'name': 'Trevor'}\n",
      "{'correct': 'male', 'guessing': 'female', 'name': 'Ty'}\n",
      "{'correct': 'male', 'guessing': 'female', 'name': 'Tyler'}\n",
      "{'correct': 'male', 'guessing': 'female', 'name': 'Tynan'}\n",
      "{'correct': 'male', 'guessing': 'female', 'name': 'Ulrich'}\n",
      "{'correct': 'male', 'guessing': 'female', 'name': 'Urban'}\n",
      "{'correct': 'male', 'guessing': 'female', 'name': 'Vassily'}\n",
      "{'correct': 'male', 'guessing': 'female', 'name': 'Vinnie'}\n",
      "{'correct': 'male', 'guessing': 'female', 'name': 'Waverley'}\n",
      "{'correct': 'male', 'guessing': 'female', 'name': 'Wesley'}\n",
      "{'correct': 'male', 'guessing': 'female', 'name': 'Westleigh'}\n",
      "{'correct': 'male', 'guessing': 'female', 'name': 'Wiatt'}\n",
      "{'correct': 'male', 'guessing': 'female', 'name': 'Winthrop'}\n",
      "{'correct': 'male', 'guessing': 'female', 'name': 'Wyatan'}\n",
      "{'correct': 'male', 'guessing': 'female', 'name': 'Zachariah'}\n",
      "{'correct': 'male', 'guessing': 'female', 'name': 'Zebulen'}\n",
      "{'correct': 'male', 'guessing': 'female', 'name': 'Zeus'}\n",
      "\n",
      "\n",
      "Total Errors: 191\n"
     ]
    }
   ],
   "source": [
    "for (tag_gender_name, guess_name, name) in sorted(errors):\n",
    "        print({'correct': tag_gender_name,\n",
    "               'guessing':guess_name,\n",
    "               'name':name})\n",
    "        \n",
    "print('\\n\\nTotal Errors:', len(errors))"
   ]
  },
  {
   "cell_type": "markdown",
   "metadata": {},
   "source": [
    "#### Final Performance\n",
    "\n",
    "We used the Naives Bayes classifier on our train dataset and measured the accuracy of the devtest and test datasets again. We were satisfied with our accuracy improvements upon this final attempt.\n",
    "\n",
    "Our new classification patterns helped improve our prediction accuracy. In both cases our results were above 80%."
   ]
  },
  {
   "cell_type": "code",
   "execution_count": 162,
   "metadata": {},
   "outputs": [
    {
     "name": "stdout",
     "output_type": "stream",
     "text": [
      "Train Accuracy 0.899\n",
      "DevTest Accuracy 0.819\n",
      "TestSet Accuracy: 0.838\n"
     ]
    }
   ],
   "source": [
    "classifier = nltk.NaiveBayesClassifier.train(train_set) \n",
    "\n",
    "# Store results for analysis\n",
    "NLTK_score_X = round(nltk.classify.accuracy(classifier, train_set),3)\n",
    "NLTK_score_y_dev = round(nltk.classify.accuracy(classifier, devtest_set),3)\n",
    "NLTK_score_y = round(nltk.classify.accuracy(classifier, test_set),3)\n",
    "\n",
    "NLTK_Results = pd.DataFrame([[NLTK_score_X,NLTK_score_y_dev,NLTK_score_y]]).rename(index={0:'NLTK_NBC'})\n",
    "\n",
    "print('Train Accuracy', NLTK_score_X) \n",
    "print('DevTest Accuracy', NLTK_score_y_dev) \n",
    "print('TestSet Accuracy:', NLTK_score_y) "
   ]
  },
  {
   "cell_type": "markdown",
   "metadata": {},
   "source": [
    "## Sklearn Approach\n",
    "\n",
    "After we tried with `nltk` package, we also tried a few approaches using the `sklearn` package to see how other types of machine learning and modeling could improve our acurracy. \n",
    "\n",
    "#### Prepare Dataset\n",
    "\n",
    "To prepare our model, we created a new gender feature from the previews one that we use for the nltk predictor model and added some new changes to the features. We created a new dataset for easy access to our data and called the features function to obtain organized data within a classified array.\n",
    "\n",
    "We called the function our dataset splits to retrieve the names and gender and set these variables as x and y for training and testing purposes."
   ]
  },
  {
   "cell_type": "code",
   "execution_count": 163,
   "metadata": {},
   "outputs": [],
   "source": [
    "# turn test/devtest/train into dataframe to ease accessing\n",
    "test_df = pd.DataFrame(test_names)\n",
    "devtest_df = pd.DataFrame(devtest_names)\n",
    "train_df = pd.DataFrame(train_names)\n",
    "\n",
    "# Define feature function\n",
    "def gender_features_new_2(word):\n",
    "    word = word.lower()\n",
    "    mid = int(len(word)/2)\n",
    "    return {'comb1': word[1],\n",
    "            'comb2': word[:3],\n",
    "            'comb3': word[mid:mid+3],\n",
    "            'comb4': word[-1],\n",
    "            'comb5': word[-2],\n",
    "            'comb6': word[:1]+word[-1]}\n",
    "\n",
    "# Vectorize function \n",
    "func_gender = np.vectorize(gender_features_new_2)\n",
    "\n",
    "# Apply function to dataframes\n",
    "X_train, X_test = func_gender(train_df[0]), train_df[1]\n",
    "y_train_dev, y_test_dev = func_gender(devtest_df[0]), devtest_df[1]\n",
    "y_train, y_test = func_gender(test_df[0]), test_df[1]\n",
    "\n",
    "vectorizer = DictVectorizer()\n",
    "\n",
    "#we fit the train data onto vectorize dictionary \n",
    "vect = vectorizer.fit(train_X)"
   ]
  },
  {
   "cell_type": "markdown",
   "metadata": {},
   "source": [
    "This is how the name are after we call the function and return the vectorized array."
   ]
  },
  {
   "cell_type": "code",
   "execution_count": 164,
   "metadata": {},
   "outputs": [
    {
     "name": "stdout",
     "output_type": "stream",
     "text": [
      "[{'comb1': 'a', 'comb2': 'cat', 'comb3': 'thy', 'comb4': 'y', 'comb5': 'h', 'comb6': 'cy'}\n",
      " {'comb1': 'a', 'comb2': 'mar', 'comb3': 'rk', 'comb4': 'k', 'comb5': 'r', 'comb6': 'mk'}]\n"
     ]
    }
   ],
   "source": [
    "print(func_gender(['Cathy',\"Mark\"]))"
   ]
  },
  {
   "cell_type": "markdown",
   "metadata": {},
   "source": [
    "#### Multinomial Model\n",
    "\n",
    "We first tried a Naive Bayes classifier again, but this time using functions from the sklearn package. Our result were comparable with our final nltk attempt."
   ]
  },
  {
   "cell_type": "code",
   "execution_count": 165,
   "metadata": {},
   "outputs": [
    {
     "name": "stdout",
     "output_type": "stream",
     "text": [
      "Train Accuracy: 0.866\n",
      "DevTest Accuracy: 0.825\n",
      "TestSet Accuracy: 0.836\n"
     ]
    }
   ],
   "source": [
    "# Fit Naive Bayes classifier \n",
    "clf = MultinomialNB()\n",
    "clf.fit(vect.transform(X_train),X_test)\n",
    "\n",
    "# Store results for analysis\n",
    "NBC_score_X = round(clf.score(vect.transform(X_train), X_test),3)\n",
    "NBC_score_y_dev = round(clf.score(vect.transform(y_train_dev), y_test_dev),3)\n",
    "NBC_score_y = round(clf.score(vect.transform(y_train), y_test),3)\n",
    "\n",
    "NBC_Results = pd.DataFrame([[NBC_score_X,NBC_score_y_dev,NBC_score_y]]).rename(index={0:'SK_NBC'})\n",
    "\n",
    "# View results\n",
    "print(\"Train Accuracy: \" + str(NBC_score_X))\n",
    "print(\"DevTest Accuracy: \" + str(NBC_score_y_dev))\n",
    "print(\"TestSet Accuracy: \" + str(NBC_score_y))"
   ]
  },
  {
   "cell_type": "markdown",
   "metadata": {},
   "source": [
    "#### Linear Model\n",
    "\n",
    "We next fitted our data using a Stochastic Gradient Descent (SGD) approach on a linear model. This improved the accuracy of our training data, but the accuracy of our test sets slightly decreased. "
   ]
  },
  {
   "cell_type": "code",
   "execution_count": 166,
   "metadata": {},
   "outputs": [
    {
     "name": "stdout",
     "output_type": "stream",
     "text": [
      "Train Accuracy: 0.934\n",
      "DevTest Accuracy: 0.824\n",
      "Test Accuracy: 0.824\n"
     ]
    }
   ],
   "source": [
    "# Fit SGD classifier \n",
    "SGD = SGDClassifier(max_iter=1000, tol=0.001,random_state=1)\n",
    "SGD.fit(vect.transform(X_train),X_test)\n",
    "\n",
    "# Store results for analysis\n",
    "SGD_score_X = round(SGD.score(vect.transform(X_train), X_test),3)\n",
    "SGD_score_y_dev = round(SGD.score(vect.transform(y_train_dev), y_test_dev),3)\n",
    "SGD_score_y = round(SGD.score(vect.transform(y_train), y_test),3)\n",
    "\n",
    "SGD_Results = pd.DataFrame([[SGD_score_X,SGD_score_y_dev,SGD_score_y]]).rename(index={0:'SGD'})\n",
    "\n",
    "# View results\n",
    "print(\"Train Accuracy: \" + str(SGD_score_X))\n",
    "print(\"DevTest Accuracy: \" + str(SGD_score_y_dev))\n",
    "print(\"Test Accuracy: \" + str(SGD_score_y))"
   ]
  },
  {
   "cell_type": "markdown",
   "metadata": {},
   "source": [
    "#### Decision Tree Model\n",
    "\n",
    "In our final attempt, we used the `RandomForestClassifier` to improve our accuracy and avoid the overfitting we observed with the linear approach. However, we found that our train accuracy increased again while our testing accuracies decreased. "
   ]
  },
  {
   "cell_type": "code",
   "execution_count": 167,
   "metadata": {},
   "outputs": [
    {
     "name": "stdout",
     "output_type": "stream",
     "text": [
      "Train Accuracy: 0.956\n",
      "DevTest Accuracy: 0.788\n",
      "Test Accuracy: 0.808\n"
     ]
    }
   ],
   "source": [
    "# Fit RFC classifier \n",
    "RFC = RandomForestClassifier(n_estimators=10,random_state=1)\n",
    "RFC.fit(vect.transform(X_train),X_test)\n",
    "\n",
    "# Store results for analysis\n",
    "RFC_score_X = round(RFC.score(vect.transform(X_train), X_test),3)\n",
    "RFC_score_y_dev = round(RFC.score(vect.transform(y_train_dev), y_test_dev),3)\n",
    "RFC_score_y = round(RFC.score(vect.transform(y_train), y_test),3)\n",
    "\n",
    "RFC_Results = pd.DataFrame([[RFC_score_X,RFC_score_y_dev,RFC_score_y]]).rename(index={0:'RFC'})\n",
    "\n",
    "# View results\n",
    "print(\"Train Accuracy: \" + str(RFC_score_X))\n",
    "print(\"DevTest Accuracy: \" + str(RFC_score_y_dev))\n",
    "print(\"Test Accuracy: \" + str(RFC_score_y))"
   ]
  },
  {
   "cell_type": "markdown",
   "metadata": {},
   "source": [
    "## Analysis\n",
    "\n",
    "Please insert final analysis comparing all improvements here. "
   ]
  },
  {
   "cell_type": "code",
   "execution_count": 171,
   "metadata": {},
   "outputs": [
    {
     "data": {
      "text/html": [
       "<div>\n",
       "<style scoped>\n",
       "    .dataframe tbody tr th:only-of-type {\n",
       "        vertical-align: middle;\n",
       "    }\n",
       "\n",
       "    .dataframe tbody tr th {\n",
       "        vertical-align: top;\n",
       "    }\n",
       "\n",
       "    .dataframe thead th {\n",
       "        text-align: right;\n",
       "    }\n",
       "</style>\n",
       "<table border=\"1\" class=\"dataframe\">\n",
       "  <thead>\n",
       "    <tr style=\"text-align: right;\">\n",
       "      <th></th>\n",
       "      <th>Train</th>\n",
       "      <th>DevTest</th>\n",
       "      <th>TestSet</th>\n",
       "    </tr>\n",
       "  </thead>\n",
       "  <tbody>\n",
       "    <tr>\n",
       "      <th>NLTK_NBC</th>\n",
       "      <td>0.899</td>\n",
       "      <td>0.819</td>\n",
       "      <td>0.838</td>\n",
       "    </tr>\n",
       "    <tr>\n",
       "      <th>SK_NBC</th>\n",
       "      <td>0.866</td>\n",
       "      <td>0.825</td>\n",
       "      <td>0.836</td>\n",
       "    </tr>\n",
       "    <tr>\n",
       "      <th>SGD</th>\n",
       "      <td>0.934</td>\n",
       "      <td>0.824</td>\n",
       "      <td>0.824</td>\n",
       "    </tr>\n",
       "    <tr>\n",
       "      <th>RFC</th>\n",
       "      <td>0.956</td>\n",
       "      <td>0.788</td>\n",
       "      <td>0.808</td>\n",
       "    </tr>\n",
       "  </tbody>\n",
       "</table>\n",
       "</div>"
      ],
      "text/plain": [
       "          Train  DevTest  TestSet\n",
       "NLTK_NBC  0.899    0.819    0.838\n",
       "SK_NBC    0.866    0.825    0.836\n",
       "SGD       0.934    0.824    0.824\n",
       "RFC       0.956    0.788    0.808"
      ]
     },
     "execution_count": 171,
     "metadata": {},
     "output_type": "execute_result"
    }
   ],
   "source": [
    "NLTK_Results.append(NBC_Results).append(SGD_Results).append(RFC_Results).rename(columns={0:\"Train\", 1:\"DevTest\", 2:\"TestSet\"})"
   ]
  },
  {
   "cell_type": "markdown",
   "metadata": {},
   "source": [
    "### References "
   ]
  },
  {
   "cell_type": "markdown",
   "metadata": {},
   "source": [
    "1. https://www.nltk.org/book/ch06.html#fig-supervised-classification\n",
    "2. https://scikit-learn.org/stable/modules/generated/sklearn.ensemble.RandomForestClassifier.html\n",
    "3. https://nlpforhackers.io/introduction-machine-learning/"
   ]
  }
 ],
 "metadata": {
  "kernelspec": {
   "display_name": "Python 3",
   "language": "python",
   "name": "python3"
  },
  "language_info": {
   "codemirror_mode": {
    "name": "ipython",
    "version": 3
   },
   "file_extension": ".py",
   "mimetype": "text/x-python",
   "name": "python",
   "nbconvert_exporter": "python",
   "pygments_lexer": "ipython3",
   "version": "3.7.3"
  }
 },
 "nbformat": 4,
 "nbformat_minor": 2
}
