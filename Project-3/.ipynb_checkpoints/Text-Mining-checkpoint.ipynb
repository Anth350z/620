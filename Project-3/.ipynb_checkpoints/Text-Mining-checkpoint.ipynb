{
 "cells": [
  {
   "cell_type": "markdown",
   "metadata": {},
   "source": [
    "#### Data 620 - Project 3 <br>July 10, 2019<br>Team 2: <ul><li>Anthony Munoz</li> <li>Katie Evers</li> <li>Juliann McEachern</li> <li>Mia Siracusa</li></ul>\n",
    "\n",
    "<h1 align=\"center\">Network Analysis: Text Mining </h1>\n",
    "\n",
    "## Getting Started\n",
    "\n",
    "Prompt: Using any of the three classifiers described in chapter 6 of Natural Language Processing with Python, and any features you can think of, build the best name gender classifier you can. \n",
    "\n",
    "#### Python Dependencies"
   ]
  },
  {
   "cell_type": "code",
   "execution_count": 1,
   "metadata": {},
   "outputs": [],
   "source": [
    "# basic requirements \n",
    "import pandas as pd, numpy as np, random, nltk\n",
    "from nltk.corpus import names # data source \n",
    "\n",
    "# sklearn packages\n",
    "from sklearn.naive_bayes import MultinomialNB\n",
    "from sklearn.model_selection import train_test_split\n",
    "from sklearn.feature_extraction import DictVectorizer\n",
    "from sklearn.linear_model import SGDClassifier\n",
    "from sklearn.ensemble import RandomForestClassifier"
   ]
  },
  {
   "cell_type": "markdown",
   "metadata": {},
   "source": [
    "#### Upload and Label Data"
   ]
  },
  {
   "cell_type": "code",
   "execution_count": 2,
   "metadata": {},
   "outputs": [],
   "source": [
    "# retrive names from the nltk corpus\n",
    "labeled_names = ([(name, 'male') for name in names.words('male.txt')] +\n",
    "[(name, 'female') for name in names.words('female.txt')])\n",
    "\n",
    "# randomly shuffle the names\n",
    "np.random.seed(1)\n",
    "random.shuffle(labeled_names)"
   ]
  },
  {
   "cell_type": "code",
   "execution_count": 3,
   "metadata": {},
   "outputs": [
    {
     "data": {
      "text/plain": [
       "[('Ivett', 'female'),\n",
       " ('Murray', 'male'),\n",
       " ('Jackson', 'male'),\n",
       " ('Eliott', 'male'),\n",
       " ('Stanleigh', 'male'),\n",
       " ('Vladamir', 'male'),\n",
       " ('Hetti', 'female'),\n",
       " ('Stefano', 'male'),\n",
       " ('Jean-Marc', 'male'),\n",
       " ('Ansel', 'male')]"
      ]
     },
     "execution_count": 3,
     "metadata": {},
     "output_type": "execute_result"
    }
   ],
   "source": [
    "labeled_names[:10]"
   ]
  },
  {
   "cell_type": "markdown",
   "metadata": {},
   "source": [
    "#### Subset Corpus\n",
    "\n",
    "We split the names corpus into three subsets:\n",
    "1.  Test Set (500 words)\n",
    "2.  Dev-test (500 words)\n",
    "3.  Training Set (Remaining words)"
   ]
  },
  {
   "cell_type": "code",
   "execution_count": 4,
   "metadata": {},
   "outputs": [
    {
     "name": "stdout",
     "output_type": "stream",
     "text": [
      "Testing names count: 500 \n",
      "Development names count: 500 \n",
      "Training names count: 6944\n"
     ]
    }
   ],
   "source": [
    "train_names = labeled_names[1000:]\n",
    "devtest_names = labeled_names[500:1000]\n",
    "test_names = labeled_names[:500]\n",
    "\n",
    "print('Testing names count:',len(test_names),'\\nDevelopment names count:',len(devtest_names),'\\nTraining names count:', len(train_names))"
   ]
  },
  {
   "cell_type": "markdown",
   "metadata": {},
   "source": [
    "## Name-Gender Classifier\n",
    "\n",
    "Task: Start with the example name gender classifier & make incremental improvements. Use the dev-test set to check your progress. Once you are satisfied with your classifier, check its final performance on the test set. \n",
    "\n",
    "#### Example Name-Gender Classifier\n",
    "\n",
    "We used the book example for our first attempt. The function shows us how to create basic features to classify our train and test sets."
   ]
  },
  {
   "cell_type": "code",
   "execution_count": 5,
   "metadata": {},
   "outputs": [
    {
     "name": "stdout",
     "output_type": "stream",
     "text": [
      "Train Accuracy 0.761\n",
      "Example DevTest Accuracy: 0.776\n",
      "Example Test Set Accuracy: 0.774\n"
     ]
    }
   ],
   "source": [
    "# Create function\n",
    "def gender_features(word):\n",
    "    return {'last_letter': word[-1]}\n",
    "\n",
    "# Apply function to train and test data\n",
    "feature_test = [(gender_features(n), gender) for (n, gender) in test_names]\n",
    "feature_devtest = [(gender_features(n), gender) for (n, gender) in devtest_names]\n",
    "feature_train = [(gender_features(n), gender) for (n, gender) in train_names]\n",
    "\n",
    "# Apply naive Bayes algorithm classifier\n",
    "classifier = nltk.NaiveBayesClassifier.train(feature_train)\n",
    "print('Train Accuracy', round(nltk.classify.accuracy(classifier, feature_train),3)) \n",
    "print('Example DevTest Accuracy:', round(nltk.classify.accuracy(classifier, feature_devtest),3)) \n",
    "print('Example Test Set Accuracy:', round(nltk.classify.accuracy(classifier, feature_test),3)) "
   ]
  },
  {
   "cell_type": "markdown",
   "metadata": {},
   "source": [
    "#### Incremental Improvements\n",
    "\n",
    "We found our most informative features, shown below, to create an informative analysis of observed patterns."
   ]
  },
  {
   "cell_type": "code",
   "execution_count": 6,
   "metadata": {
    "scrolled": true
   },
   "outputs": [
    {
     "name": "stdout",
     "output_type": "stream",
     "text": [
      "Most Informative Features\n",
      "             last_letter = 'a'            female : male   =     34.0 : 1.0\n",
      "             last_letter = 'k'              male : female =     29.5 : 1.0\n",
      "             last_letter = 'f'              male : female =     15.3 : 1.0\n",
      "             last_letter = 'v'              male : female =     13.1 : 1.0\n",
      "             last_letter = 'p'              male : female =     11.3 : 1.0\n",
      "             last_letter = 'd'              male : female =      9.3 : 1.0\n",
      "             last_letter = 'm'              male : female =      8.3 : 1.0\n",
      "             last_letter = 'o'              male : female =      8.1 : 1.0\n",
      "             last_letter = 'w'              male : female =      7.5 : 1.0\n",
      "             last_letter = 'r'              male : female =      7.0 : 1.0\n",
      "None\n"
     ]
    }
   ],
   "source": [
    "print(classifier.show_most_informative_features())"
   ]
  },
  {
   "cell_type": "markdown",
   "metadata": {},
   "source": [
    "We took these informative features to improve our second gender functions in an attempt to improve the preditor accurracy of our model.\n",
    "\n",
    "We used the following pattern combinations in order to improve the gender classification:\n",
    "\n",
    "1. Second letter in the name.\n",
    "2. First 3 letters in the name.\n",
    "3. Middle letter of the name.\n",
    "4. Last letter of the name.\n",
    "5. Last 2 letters of the name.\n",
    "6. First 2 letters with the last letter of the name."
   ]
  },
  {
   "cell_type": "code",
   "execution_count": 7,
   "metadata": {},
   "outputs": [],
   "source": [
    "# Improvements function\n",
    "\n",
    "def gender_features_new(word):\n",
    "    word = word.lower()\n",
    "    mid = int(len(word)/2)\n",
    "    return {'comb1': word[1],\n",
    "            'comb2': word[:3],\n",
    "            'comb3': word[mid:mid+5],\n",
    "            'comb4': word[-1],\n",
    "            'comb5': word[-2],\n",
    "            'comb6': word[:2]+word[-1]}"
   ]
  },
  {
   "cell_type": "markdown",
   "metadata": {},
   "source": [
    "We first worked with the training and the development datasets until we felt confident with our model. Then, we applied function on the test dataset."
   ]
  },
  {
   "cell_type": "code",
   "execution_count": 8,
   "metadata": {},
   "outputs": [],
   "source": [
    "# Apply function to train, devtest, and test datasets\n",
    "train_set = [(gender_features_new(n), gender) for (n, gender) in train_names]\n",
    "devtest_set = [(gender_features_new(n), gender) for (n, gender) in devtest_names]\n",
    "test_set = [(gender_features_new(n), gender) for (n, gender) in test_names]"
   ]
  },
  {
   "cell_type": "markdown",
   "metadata": {},
   "source": [
    "To improve our model, we used the following loop to iterate through the devtest names and call the gender functions to identify which of our gender prediction were off."
   ]
  },
  {
   "cell_type": "code",
   "execution_count": 9,
   "metadata": {},
   "outputs": [],
   "source": [
    "errors = []\n",
    "for (name, tag) in devtest_names:\n",
    "    guess = classifier.classify(gender_features_new(name))\n",
    "    if guess != tag:\n",
    "        errors.append( (tag, guess, name) )"
   ]
  },
  {
   "cell_type": "markdown",
   "metadata": {},
   "source": [
    "Here, we observe if they are some pattern on the names and that why we start creating combination of letters and selecting those that improve our prediction algorithm."
   ]
  },
  {
   "cell_type": "code",
   "execution_count": 10,
   "metadata": {},
   "outputs": [
    {
     "name": "stdout",
     "output_type": "stream",
     "text": [
      "{'correct': 'male', 'guessing': 'female', 'name': 'Aamir'}\n",
      "{'correct': 'male', 'guessing': 'female', 'name': 'Abelard'}\n",
      "{'correct': 'male', 'guessing': 'female', 'name': 'Abner'}\n",
      "{'correct': 'male', 'guessing': 'female', 'name': 'Abraham'}\n",
      "{'correct': 'male', 'guessing': 'female', 'name': 'Adams'}\n",
      "{'correct': 'male', 'guessing': 'female', 'name': 'Adnan'}\n",
      "{'correct': 'male', 'guessing': 'female', 'name': 'Agustin'}\n",
      "{'correct': 'male', 'guessing': 'female', 'name': 'Alden'}\n",
      "{'correct': 'male', 'guessing': 'female', 'name': 'Alessandro'}\n",
      "{'correct': 'male', 'guessing': 'female', 'name': 'Alexis'}\n",
      "{'correct': 'male', 'guessing': 'female', 'name': 'Alfonzo'}\n",
      "{'correct': 'male', 'guessing': 'female', 'name': 'Alford'}\n",
      "{'correct': 'male', 'guessing': 'female', 'name': 'Andrey'}\n",
      "{'correct': 'male', 'guessing': 'female', 'name': 'Apollo'}\n",
      "{'correct': 'male', 'guessing': 'female', 'name': 'Augie'}\n",
      "{'correct': 'male', 'guessing': 'female', 'name': 'Augusto'}\n",
      "{'correct': 'male', 'guessing': 'female', 'name': 'Averill'}\n",
      "{'correct': 'male', 'guessing': 'female', 'name': 'Barclay'}\n",
      "{'correct': 'male', 'guessing': 'female', 'name': 'Barnaby'}\n",
      "{'correct': 'male', 'guessing': 'female', 'name': 'Barry'}\n",
      "{'correct': 'male', 'guessing': 'female', 'name': 'Bartholemy'}\n",
      "{'correct': 'male', 'guessing': 'female', 'name': 'Bartolomeo'}\n",
      "{'correct': 'male', 'guessing': 'female', 'name': 'Bary'}\n",
      "{'correct': 'male', 'guessing': 'female', 'name': 'Basil'}\n",
      "{'correct': 'male', 'guessing': 'female', 'name': 'Ben'}\n",
      "{'correct': 'male', 'guessing': 'female', 'name': 'Benito'}\n",
      "{'correct': 'male', 'guessing': 'female', 'name': 'Binky'}\n",
      "{'correct': 'male', 'guessing': 'female', 'name': 'Boniface'}\n",
      "{'correct': 'male', 'guessing': 'female', 'name': 'Burgess'}\n",
      "{'correct': 'male', 'guessing': 'female', 'name': 'Burton'}\n",
      "{'correct': 'male', 'guessing': 'female', 'name': 'Caleb'}\n",
      "{'correct': 'male', 'guessing': 'female', 'name': 'Cameron'}\n",
      "{'correct': 'male', 'guessing': 'female', 'name': 'Cass'}\n",
      "{'correct': 'male', 'guessing': 'female', 'name': 'Cecil'}\n",
      "{'correct': 'male', 'guessing': 'female', 'name': 'Chadd'}\n",
      "{'correct': 'male', 'guessing': 'female', 'name': 'Chaddy'}\n",
      "{'correct': 'male', 'guessing': 'female', 'name': 'Chancey'}\n",
      "{'correct': 'male', 'guessing': 'female', 'name': 'Chelton'}\n",
      "{'correct': 'male', 'guessing': 'female', 'name': 'Chris'}\n",
      "{'correct': 'male', 'guessing': 'female', 'name': 'Christorpher'}\n",
      "{'correct': 'male', 'guessing': 'female', 'name': 'Chuck'}\n",
      "{'correct': 'male', 'guessing': 'female', 'name': 'Clemente'}\n",
      "{'correct': 'male', 'guessing': 'female', 'name': 'Clinten'}\n",
      "{'correct': 'male', 'guessing': 'female', 'name': 'Colin'}\n",
      "{'correct': 'male', 'guessing': 'female', 'name': 'Collin'}\n",
      "{'correct': 'male', 'guessing': 'female', 'name': 'Connor'}\n",
      "{'correct': 'male', 'guessing': 'female', 'name': 'Corbin'}\n",
      "{'correct': 'male', 'guessing': 'female', 'name': 'Creighton'}\n",
      "{'correct': 'male', 'guessing': 'female', 'name': 'Danny'}\n",
      "{'correct': 'male', 'guessing': 'female', 'name': 'Darcy'}\n",
      "{'correct': 'male', 'guessing': 'female', 'name': 'Darrell'}\n",
      "{'correct': 'male', 'guessing': 'female', 'name': 'Darrin'}\n",
      "{'correct': 'male', 'guessing': 'female', 'name': 'Dimitri'}\n",
      "{'correct': 'male', 'guessing': 'female', 'name': 'Dino'}\n",
      "{'correct': 'male', 'guessing': 'female', 'name': 'Dirk'}\n",
      "{'correct': 'male', 'guessing': 'female', 'name': 'Durward'}\n",
      "{'correct': 'male', 'guessing': 'female', 'name': 'Dustin'}\n",
      "{'correct': 'male', 'guessing': 'female', 'name': 'Ebenezer'}\n",
      "{'correct': 'male', 'guessing': 'female', 'name': 'Edmond'}\n",
      "{'correct': 'male', 'guessing': 'female', 'name': 'Elijah'}\n",
      "{'correct': 'male', 'guessing': 'female', 'name': 'Ely'}\n",
      "{'correct': 'male', 'guessing': 'female', 'name': 'Englebart'}\n",
      "{'correct': 'male', 'guessing': 'female', 'name': 'Flem'}\n",
      "{'correct': 'male', 'guessing': 'female', 'name': 'Fletch'}\n",
      "{'correct': 'male', 'guessing': 'female', 'name': 'Francisco'}\n",
      "{'correct': 'male', 'guessing': 'female', 'name': 'Franky'}\n",
      "{'correct': 'male', 'guessing': 'female', 'name': 'Fred'}\n",
      "{'correct': 'male', 'guessing': 'female', 'name': 'Fredric'}\n",
      "{'correct': 'male', 'guessing': 'female', 'name': 'Gabriele'}\n",
      "{'correct': 'male', 'guessing': 'female', 'name': 'Gardner'}\n",
      "{'correct': 'male', 'guessing': 'female', 'name': 'Garold'}\n",
      "{'correct': 'male', 'guessing': 'female', 'name': 'Garret'}\n",
      "{'correct': 'male', 'guessing': 'female', 'name': 'Garvin'}\n",
      "{'correct': 'male', 'guessing': 'female', 'name': 'Garwin'}\n",
      "{'correct': 'male', 'guessing': 'female', 'name': 'Gaspar'}\n",
      "{'correct': 'male', 'guessing': 'female', 'name': 'Gerhardt'}\n",
      "{'correct': 'male', 'guessing': 'female', 'name': 'Giorgio'}\n",
      "{'correct': 'male', 'guessing': 'female', 'name': 'Gomer'}\n",
      "{'correct': 'male', 'guessing': 'female', 'name': 'Goober'}\n",
      "{'correct': 'male', 'guessing': 'female', 'name': 'Gordon'}\n",
      "{'correct': 'male', 'guessing': 'female', 'name': 'Ham'}\n",
      "{'correct': 'male', 'guessing': 'female', 'name': 'Harris'}\n",
      "{'correct': 'male', 'guessing': 'female', 'name': 'Hassan'}\n",
      "{'correct': 'male', 'guessing': 'female', 'name': 'Hazel'}\n",
      "{'correct': 'male', 'guessing': 'female', 'name': 'Herbert'}\n",
      "{'correct': 'male', 'guessing': 'female', 'name': 'Higgins'}\n",
      "{'correct': 'male', 'guessing': 'female', 'name': 'Hill'}\n",
      "{'correct': 'male', 'guessing': 'female', 'name': 'Hogan'}\n",
      "{'correct': 'male', 'guessing': 'female', 'name': 'Homer'}\n",
      "{'correct': 'male', 'guessing': 'female', 'name': 'Huntley'}\n",
      "{'correct': 'male', 'guessing': 'female', 'name': 'Ingamar'}\n",
      "{'correct': 'male', 'guessing': 'female', 'name': 'Ingram'}\n",
      "{'correct': 'male', 'guessing': 'female', 'name': 'Isa'}\n",
      "{'correct': 'male', 'guessing': 'female', 'name': 'Israel'}\n",
      "{'correct': 'male', 'guessing': 'female', 'name': 'Ivan'}\n",
      "{'correct': 'male', 'guessing': 'female', 'name': 'Jameson'}\n",
      "{'correct': 'male', 'guessing': 'female', 'name': 'Jim'}\n",
      "{'correct': 'male', 'guessing': 'female', 'name': 'Keefe'}\n",
      "{'correct': 'male', 'guessing': 'female', 'name': 'Konstantin'}\n",
      "{'correct': 'male', 'guessing': 'female', 'name': 'Kristos'}\n",
      "{'correct': 'male', 'guessing': 'female', 'name': 'Lamont'}\n",
      "{'correct': 'male', 'guessing': 'female', 'name': 'Lefty'}\n",
      "{'correct': 'male', 'guessing': 'female', 'name': 'Lemar'}\n",
      "{'correct': 'male', 'guessing': 'female', 'name': 'Lemmie'}\n",
      "{'correct': 'male', 'guessing': 'female', 'name': 'Lennie'}\n",
      "{'correct': 'male', 'guessing': 'female', 'name': 'Lin'}\n",
      "{'correct': 'male', 'guessing': 'female', 'name': 'Lind'}\n",
      "{'correct': 'male', 'guessing': 'female', 'name': 'Loren'}\n",
      "{'correct': 'male', 'guessing': 'female', 'name': 'Lowell'}\n",
      "{'correct': 'male', 'guessing': 'female', 'name': 'Luciano'}\n",
      "{'correct': 'male', 'guessing': 'female', 'name': 'Luigi'}\n",
      "{'correct': 'male', 'guessing': 'female', 'name': 'Marcio'}\n",
      "{'correct': 'male', 'guessing': 'female', 'name': 'Marlon'}\n",
      "{'correct': 'male', 'guessing': 'female', 'name': 'Martainn'}\n",
      "{'correct': 'male', 'guessing': 'female', 'name': 'Marvin'}\n",
      "{'correct': 'male', 'guessing': 'female', 'name': 'Matt'}\n",
      "{'correct': 'male', 'guessing': 'female', 'name': 'Matthias'}\n",
      "{'correct': 'male', 'guessing': 'female', 'name': 'Mayor'}\n",
      "{'correct': 'male', 'guessing': 'female', 'name': 'Merill'}\n",
      "{'correct': 'male', 'guessing': 'female', 'name': 'Mick'}\n",
      "{'correct': 'male', 'guessing': 'female', 'name': 'Moise'}\n",
      "{'correct': 'male', 'guessing': 'female', 'name': 'Moore'}\n",
      "{'correct': 'male', 'guessing': 'female', 'name': 'Morton'}\n",
      "{'correct': 'male', 'guessing': 'female', 'name': 'Myles'}\n",
      "{'correct': 'male', 'guessing': 'female', 'name': 'Nev'}\n",
      "{'correct': 'male', 'guessing': 'female', 'name': 'Nicky'}\n",
      "{'correct': 'male', 'guessing': 'female', 'name': 'Niles'}\n",
      "{'correct': 'male', 'guessing': 'female', 'name': 'Nilson'}\n",
      "{'correct': 'male', 'guessing': 'female', 'name': 'Obadiah'}\n",
      "{'correct': 'male', 'guessing': 'female', 'name': 'Othello'}\n",
      "{'correct': 'male', 'guessing': 'female', 'name': 'Page'}\n",
      "{'correct': 'male', 'guessing': 'female', 'name': 'Paige'}\n",
      "{'correct': 'male', 'guessing': 'female', 'name': 'Park'}\n",
      "{'correct': 'male', 'guessing': 'female', 'name': 'Partha'}\n",
      "{'correct': 'male', 'guessing': 'female', 'name': 'Pattie'}\n",
      "{'correct': 'male', 'guessing': 'female', 'name': 'Paulo'}\n",
      "{'correct': 'male', 'guessing': 'female', 'name': 'Pearce'}\n",
      "{'correct': 'male', 'guessing': 'female', 'name': 'Pete'}\n",
      "{'correct': 'male', 'guessing': 'female', 'name': 'Peyter'}\n",
      "{'correct': 'male', 'guessing': 'female', 'name': 'Pincas'}\n",
      "{'correct': 'male', 'guessing': 'female', 'name': 'Prentiss'}\n",
      "{'correct': 'male', 'guessing': 'female', 'name': 'Prescott'}\n",
      "{'correct': 'male', 'guessing': 'female', 'name': 'Puff'}\n",
      "{'correct': 'male', 'guessing': 'female', 'name': 'Rajeev'}\n",
      "{'correct': 'male', 'guessing': 'female', 'name': 'Ramon'}\n",
      "{'correct': 'male', 'guessing': 'female', 'name': 'Reginauld'}\n",
      "{'correct': 'male', 'guessing': 'female', 'name': 'Rhett'}\n",
      "{'correct': 'male', 'guessing': 'female', 'name': 'Riccardo'}\n",
      "{'correct': 'male', 'guessing': 'female', 'name': 'Rickard'}\n",
      "{'correct': 'male', 'guessing': 'female', 'name': 'Rolf'}\n",
      "{'correct': 'male', 'guessing': 'female', 'name': 'Ronald'}\n",
      "{'correct': 'male', 'guessing': 'female', 'name': 'Rudy'}\n",
      "{'correct': 'male', 'guessing': 'female', 'name': 'Sax'}\n",
      "{'correct': 'male', 'guessing': 'female', 'name': 'Scotti'}\n",
      "{'correct': 'male', 'guessing': 'female', 'name': 'Sergei'}\n",
      "{'correct': 'male', 'guessing': 'female', 'name': 'Sheldon'}\n",
      "{'correct': 'male', 'guessing': 'female', 'name': 'Shem'}\n",
      "{'correct': 'male', 'guessing': 'female', 'name': 'Sidnee'}\n",
      "{'correct': 'male', 'guessing': 'female', 'name': 'Skippy'}\n",
      "{'correct': 'male', 'guessing': 'female', 'name': 'Spenser'}\n",
      "{'correct': 'male', 'guessing': 'female', 'name': 'Staford'}\n",
      "{'correct': 'male', 'guessing': 'female', 'name': 'Sterling'}\n",
      "{'correct': 'male', 'guessing': 'female', 'name': 'Taite'}\n",
      "{'correct': 'male', 'guessing': 'female', 'name': 'Tally'}\n",
      "{'correct': 'male', 'guessing': 'female', 'name': 'Teodoro'}\n",
      "{'correct': 'male', 'guessing': 'female', 'name': 'Thom'}\n",
      "{'correct': 'male', 'guessing': 'female', 'name': 'Todd'}\n",
      "{'correct': 'male', 'guessing': 'female', 'name': 'Tomlin'}\n",
      "{'correct': 'male', 'guessing': 'female', 'name': 'Tonnie'}\n",
      "{'correct': 'male', 'guessing': 'female', 'name': 'Torrey'}\n",
      "{'correct': 'male', 'guessing': 'female', 'name': 'Tracy'}\n",
      "{'correct': 'male', 'guessing': 'female', 'name': 'Trever'}\n",
      "{'correct': 'male', 'guessing': 'female', 'name': 'Tucker'}\n",
      "{'correct': 'male', 'guessing': 'female', 'name': 'Tyson'}\n",
      "{'correct': 'male', 'guessing': 'female', 'name': 'Ulrick'}\n",
      "{'correct': 'male', 'guessing': 'female', 'name': 'Valentin'}\n",
      "{'correct': 'male', 'guessing': 'female', 'name': 'Vasili'}\n",
      "{'correct': 'male', 'guessing': 'female', 'name': 'Virge'}\n",
      "{'correct': 'male', 'guessing': 'female', 'name': 'Vite'}\n",
      "{'correct': 'male', 'guessing': 'female', 'name': 'Walsh'}\n",
      "{'correct': 'male', 'guessing': 'female', 'name': 'Wash'}\n",
      "{'correct': 'male', 'guessing': 'female', 'name': 'Wildon'}\n",
      "{'correct': 'male', 'guessing': 'female', 'name': 'Will'}\n",
      "{'correct': 'male', 'guessing': 'female', 'name': 'Wilmer'}\n",
      "{'correct': 'male', 'guessing': 'female', 'name': 'Wolf'}\n",
      "{'correct': 'male', 'guessing': 'female', 'name': 'Woodman'}\n",
      "{'correct': 'male', 'guessing': 'female', 'name': 'Wynton'}\n",
      "{'correct': 'male', 'guessing': 'female', 'name': 'Yaakov'}\n",
      "{'correct': 'male', 'guessing': 'female', 'name': 'Yacov'}\n",
      "{'correct': 'male', 'guessing': 'female', 'name': 'Yale'}\n",
      "{'correct': 'male', 'guessing': 'female', 'name': 'Yves'}\n",
      "{'correct': 'male', 'guessing': 'female', 'name': 'Zollie'}\n",
      "\n",
      "\n",
      "Total Errors: 192\n"
     ]
    }
   ],
   "source": [
    "for (tag_gender_name, guess_name, name) in sorted(errors):\n",
    "        print({'correct': tag_gender_name,\n",
    "               'guessing':guess_name,\n",
    "               'name':name})\n",
    "        \n",
    "print('\\n\\nTotal Errors:', len(errors))"
   ]
  },
  {
   "cell_type": "markdown",
   "metadata": {},
   "source": [
    "#### Final Performance\n",
    "\n",
    "We used the Naives Bayes classifier on our train dataset and measured the accuracy of the devtest and test datasets again. We were satisfied with our accuracy improvements upon this final attempt.\n",
    "\n",
    "Our new classification patterns helped improve our prediction accuracy. In both cases our results were above 80%."
   ]
  },
  {
   "cell_type": "code",
   "execution_count": 11,
   "metadata": {},
   "outputs": [
    {
     "name": "stdout",
     "output_type": "stream",
     "text": [
      "Train Accuracy 0.896\n",
      "DevTest Accuracy 0.836\n",
      "TestSet Accuracy: 0.85\n"
     ]
    }
   ],
   "source": [
    "classifier = nltk.NaiveBayesClassifier.train(train_set) \n",
    "\n",
    "# Store results for analysis\n",
    "NLTK_score_X = round(nltk.classify.accuracy(classifier, train_set),3)\n",
    "NLTK_score_y_dev = round(nltk.classify.accuracy(classifier, devtest_set),3)\n",
    "NLTK_score_y = round(nltk.classify.accuracy(classifier, test_set),3)\n",
    "\n",
    "NLTK_Results = pd.DataFrame([[NLTK_score_X,NLTK_score_y_dev,NLTK_score_y]]).rename(index={0:'NLTK_NBC'})\n",
    "\n",
    "print('Train Accuracy', NLTK_score_X) \n",
    "print('DevTest Accuracy', NLTK_score_y_dev) \n",
    "print('TestSet Accuracy:', NLTK_score_y) "
   ]
  },
  {
   "cell_type": "markdown",
   "metadata": {},
   "source": [
    "## Sklearn Approach\n",
    "\n",
    "After we tried with `nltk` package, we also tried a few approaches using the `sklearn` package to see how other types of machine learning and modeling could improve our acurracy. \n",
    "\n",
    "#### Prepare Dataset\n",
    "\n",
    "To prepare our model, we created a new gender feature from the previews one that we use for the nltk predictor model and added some new changes to the features. We created a new dataset for easy access to our data and called the features function to obtain organized data within a classified array.\n",
    "\n",
    "We called the function our dataset splits to retrieve the names and gender and set these variables as x and y for training and testing purposes."
   ]
  },
  {
   "cell_type": "code",
   "execution_count": 12,
   "metadata": {},
   "outputs": [],
   "source": [
    "# turn test/devtest/train into dataframe to ease accessing\n",
    "test_df = pd.DataFrame(test_names)\n",
    "devtest_df = pd.DataFrame(devtest_names)\n",
    "train_df = pd.DataFrame(train_names)\n",
    "\n",
    "# Define feature function\n",
    "def gender_features_new_2(word):\n",
    "    word = word.lower()\n",
    "    mid = int(len(word)/2)\n",
    "    return {'comb1': word[1],\n",
    "            'comb2': word[:3],\n",
    "            'comb3': word[mid:mid+3],\n",
    "            'comb4': word[-1],\n",
    "            'comb5': word[-2],\n",
    "            'comb6': word[:1]+word[-1]}\n",
    "\n",
    "# Vectorize function \n",
    "func_gender = np.vectorize(gender_features_new_2)\n",
    "\n",
    "# Apply function to dataframes\n",
    "X_train, X_test = func_gender(train_df[0]), train_df[1]\n",
    "y_train_dev, y_test_dev = func_gender(devtest_df[0]), devtest_df[1]\n",
    "y_train, y_test = func_gender(test_df[0]), test_df[1]\n",
    "\n",
    "vectorizer = DictVectorizer()\n",
    "\n",
    "#we fit the train data onto vectorize dictionary \n",
    "vect = vectorizer.fit(X_train)"
   ]
  },
  {
   "cell_type": "markdown",
   "metadata": {},
   "source": [
    "This is how the name are after we call the function and return the vectorized array."
   ]
  },
  {
   "cell_type": "code",
   "execution_count": 13,
   "metadata": {},
   "outputs": [
    {
     "name": "stdout",
     "output_type": "stream",
     "text": [
      "[{'comb1': 'a', 'comb2': 'cat', 'comb3': 'thy', 'comb4': 'y', 'comb5': 'h', 'comb6': 'cy'}\n",
      " {'comb1': 'a', 'comb2': 'mar', 'comb3': 'rk', 'comb4': 'k', 'comb5': 'r', 'comb6': 'mk'}]\n"
     ]
    }
   ],
   "source": [
    "print(func_gender(['Cathy',\"Mark\"]))"
   ]
  },
  {
   "cell_type": "markdown",
   "metadata": {},
   "source": [
    "#### Multinomial Model\n",
    "\n",
    "We first tried a Naive Bayes classifier again, but this time using functions from the sklearn package. Our result were comparable with our final nltk attempt."
   ]
  },
  {
   "cell_type": "code",
   "execution_count": 14,
   "metadata": {},
   "outputs": [
    {
     "name": "stdout",
     "output_type": "stream",
     "text": [
      "Train Accuracy: 0.863\n",
      "DevTest Accuracy: 0.818\n",
      "TestSet Accuracy: 0.868\n"
     ]
    }
   ],
   "source": [
    "# Fit Naive Bayes classifier \n",
    "clf = MultinomialNB()\n",
    "clf.fit(vect.transform(X_train),X_test)\n",
    "\n",
    "# Store results for analysis\n",
    "NBC_score_X = round(clf.score(vect.transform(X_train), X_test),3)\n",
    "NBC_score_y_dev = round(clf.score(vect.transform(y_train_dev), y_test_dev),3)\n",
    "NBC_score_y = round(clf.score(vect.transform(y_train), y_test),3)\n",
    "\n",
    "NBC_Results = pd.DataFrame([[NBC_score_X,NBC_score_y_dev,NBC_score_y]]).rename(index={0:'SK_NBC'})\n",
    "\n",
    "# View results\n",
    "print(\"Train Accuracy: \" + str(NBC_score_X))\n",
    "print(\"DevTest Accuracy: \" + str(NBC_score_y_dev))\n",
    "print(\"TestSet Accuracy: \" + str(NBC_score_y))"
   ]
  },
  {
   "cell_type": "markdown",
   "metadata": {},
   "source": [
    "#### Linear Model\n",
    "\n",
    "We next fitted our data using a Stochastic Gradient Descent (SGD) approach on a linear model. This improved the accuracy of our training data, but the accuracy of our test sets slightly decreased. "
   ]
  },
  {
   "cell_type": "code",
   "execution_count": 15,
   "metadata": {},
   "outputs": [
    {
     "name": "stdout",
     "output_type": "stream",
     "text": [
      "Train Accuracy: 0.93\n",
      "DevTest Accuracy: 0.84\n",
      "Test Accuracy: 0.832\n"
     ]
    }
   ],
   "source": [
    "# Fit SGD classifier \n",
    "SGD = SGDClassifier(max_iter=1000, tol=0.001,random_state=1)\n",
    "SGD.fit(vect.transform(X_train),X_test)\n",
    "\n",
    "# Store results for analysis\n",
    "SGD_score_X = round(SGD.score(vect.transform(X_train), X_test),3)\n",
    "SGD_score_y_dev = round(SGD.score(vect.transform(y_train_dev), y_test_dev),3)\n",
    "SGD_score_y = round(SGD.score(vect.transform(y_train), y_test),3)\n",
    "\n",
    "SGD_Results = pd.DataFrame([[SGD_score_X,SGD_score_y_dev,SGD_score_y]]).rename(index={0:'SGD'})\n",
    "\n",
    "# View results\n",
    "print(\"Train Accuracy: \" + str(SGD_score_X))\n",
    "print(\"DevTest Accuracy: \" + str(SGD_score_y_dev))\n",
    "print(\"Test Accuracy: \" + str(SGD_score_y))"
   ]
  },
  {
   "cell_type": "markdown",
   "metadata": {},
   "source": [
    "#### Decision Tree Model\n",
    "\n",
    "In our final attempt, we used the `RandomForestClassifier` to improve our accuracy and avoid the overfitting we observed with the linear approach. However, we found that our train accuracy increased again while our testing accuracies decreased. "
   ]
  },
  {
   "cell_type": "code",
   "execution_count": 16,
   "metadata": {},
   "outputs": [
    {
     "name": "stdout",
     "output_type": "stream",
     "text": [
      "Train Accuracy: 0.951\n",
      "DevTest Accuracy: 0.768\n",
      "Test Accuracy: 0.816\n"
     ]
    }
   ],
   "source": [
    "# Fit RFC classifier \n",
    "RFC = RandomForestClassifier(n_estimators=10,random_state=1)\n",
    "RFC.fit(vect.transform(X_train),X_test)\n",
    "\n",
    "# Store results for analysis\n",
    "RFC_score_X = round(RFC.score(vect.transform(X_train), X_test),3)\n",
    "RFC_score_y_dev = round(RFC.score(vect.transform(y_train_dev), y_test_dev),3)\n",
    "RFC_score_y = round(RFC.score(vect.transform(y_train), y_test),3)\n",
    "\n",
    "RFC_Results = pd.DataFrame([[RFC_score_X,RFC_score_y_dev,RFC_score_y]]).rename(index={0:'RFC'})\n",
    "\n",
    "# View results\n",
    "print(\"Train Accuracy: \" + str(RFC_score_X))\n",
    "print(\"DevTest Accuracy: \" + str(RFC_score_y_dev))\n",
    "print(\"Test Accuracy: \" + str(RFC_score_y))"
   ]
  },
  {
   "cell_type": "markdown",
   "metadata": {},
   "source": [
    "## Analysis\n",
    "\n",
    "Please insert final analysis comparing all improvements here. "
   ]
  },
  {
   "cell_type": "code",
   "execution_count": 17,
   "metadata": {},
   "outputs": [
    {
     "data": {
      "text/html": [
       "<div>\n",
       "<style scoped>\n",
       "    .dataframe tbody tr th:only-of-type {\n",
       "        vertical-align: middle;\n",
       "    }\n",
       "\n",
       "    .dataframe tbody tr th {\n",
       "        vertical-align: top;\n",
       "    }\n",
       "\n",
       "    .dataframe thead th {\n",
       "        text-align: right;\n",
       "    }\n",
       "</style>\n",
       "<table border=\"1\" class=\"dataframe\">\n",
       "  <thead>\n",
       "    <tr style=\"text-align: right;\">\n",
       "      <th></th>\n",
       "      <th>Train</th>\n",
       "      <th>DevTest</th>\n",
       "      <th>TestSet</th>\n",
       "    </tr>\n",
       "  </thead>\n",
       "  <tbody>\n",
       "    <tr>\n",
       "      <th>NLTK_NBC</th>\n",
       "      <td>0.896</td>\n",
       "      <td>0.836</td>\n",
       "      <td>0.850</td>\n",
       "    </tr>\n",
       "    <tr>\n",
       "      <th>SK_NBC</th>\n",
       "      <td>0.863</td>\n",
       "      <td>0.818</td>\n",
       "      <td>0.868</td>\n",
       "    </tr>\n",
       "    <tr>\n",
       "      <th>SGD</th>\n",
       "      <td>0.930</td>\n",
       "      <td>0.840</td>\n",
       "      <td>0.832</td>\n",
       "    </tr>\n",
       "    <tr>\n",
       "      <th>RFC</th>\n",
       "      <td>0.951</td>\n",
       "      <td>0.768</td>\n",
       "      <td>0.816</td>\n",
       "    </tr>\n",
       "  </tbody>\n",
       "</table>\n",
       "</div>"
      ],
      "text/plain": [
       "          Train  DevTest  TestSet\n",
       "NLTK_NBC  0.896    0.836    0.850\n",
       "SK_NBC    0.863    0.818    0.868\n",
       "SGD       0.930    0.840    0.832\n",
       "RFC       0.951    0.768    0.816"
      ]
     },
     "execution_count": 17,
     "metadata": {},
     "output_type": "execute_result"
    }
   ],
   "source": [
    "NLTK_Results.append(NBC_Results).append(SGD_Results).append(RFC_Results).rename(columns={0:\"Train\", 1:\"DevTest\", 2:\"TestSet\"})"
   ]
  },
  {
   "cell_type": "markdown",
   "metadata": {},
   "source": [
    "### References "
   ]
  },
  {
   "cell_type": "markdown",
   "metadata": {},
   "source": [
    "1. https://www.nltk.org/book/ch06.html#fig-supervised-classification\n",
    "2. https://scikit-learn.org/stable/modules/generated/sklearn.ensemble.RandomForestClassifier.html\n",
    "3. https://nlpforhackers.io/introduction-machine-learning/"
   ]
  }
 ],
 "metadata": {
  "kernelspec": {
   "display_name": "Python 3",
   "language": "python",
   "name": "python3"
  },
  "language_info": {
   "codemirror_mode": {
    "name": "ipython",
    "version": 3
   },
   "file_extension": ".py",
   "mimetype": "text/x-python",
   "name": "python",
   "nbconvert_exporter": "python",
   "pygments_lexer": "ipython3",
   "version": "3.7.3"
  }
 },
 "nbformat": 4,
 "nbformat_minor": 2
}
