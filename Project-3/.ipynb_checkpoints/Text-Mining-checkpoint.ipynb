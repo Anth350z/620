{
 "cells": [
  {
   "cell_type": "markdown",
   "metadata": {},
   "source": [
    "#### Data 620 - Project 3 <br>July 10, 2019<br>Team 2: <ul><li>Anthony Munoz</li> <li>Katie Evers</li> <li>Juliann McEachern</li> <li>Mia Siracusa</li></ul>\n",
    "\n",
    "<h1 align=\"center\">Network Analysis: Text Mining </h1>\n",
    "\n",
    "## Getting Started\n",
    "\n",
    "Prompt: Using any of the three classifiers described in chapter 6 of Natural Language Processing with Python, and any features you can think of, build the best name gender classifier you can. \n",
    "\n",
    "#### Python Dependencies"
   ]
  },
  {
   "cell_type": "code",
   "execution_count": 1,
   "metadata": {},
   "outputs": [],
   "source": [
    "# basic requirements \n",
    "import pandas as pd, numpy as np, random, nltk\n",
    "from nltk.corpus import names # data source \n",
    "\n",
    "# sklearn packages\n",
    "from sklearn.naive_bayes import MultinomialNB\n",
    "from sklearn.model_selection import train_test_split\n",
    "from sklearn.feature_extraction import DictVectorizer\n",
    "from sklearn.linear_model import SGDClassifier\n",
    "from sklearn.ensemble import RandomForestClassifier"
   ]
  },
  {
   "cell_type": "markdown",
   "metadata": {},
   "source": [
    "#### Upload and Label Data"
   ]
  },
  {
   "cell_type": "code",
   "execution_count": 2,
   "metadata": {},
   "outputs": [],
   "source": [
    "# retrive names from the nltk corpus\n",
    "labeled_names = ([(name, 'male') for name in names.words('male.txt')] +\n",
    "[(name, 'female') for name in names.words('female.txt')])\n",
    "\n",
    "# randomly shuffle the names\n",
    "np.random.seed(1)\n",
    "random.shuffle(labeled_names)"
   ]
  },
  {
   "cell_type": "code",
   "execution_count": 3,
   "metadata": {},
   "outputs": [
    {
     "data": {
      "text/plain": [
       "[('Jewelle', 'female'),\n",
       " ('Cletus', 'male'),\n",
       " ('Orsola', 'female'),\n",
       " ('Harrison', 'male'),\n",
       " ('Hersch', 'male'),\n",
       " ('Marin', 'female'),\n",
       " ('Hewe', 'male'),\n",
       " ('Prince', 'male'),\n",
       " ('Melba', 'female'),\n",
       " ('Elliott', 'male')]"
      ]
     },
     "execution_count": 3,
     "metadata": {},
     "output_type": "execute_result"
    }
   ],
   "source": [
    "labeled_names[:10]"
   ]
  },
  {
   "cell_type": "markdown",
   "metadata": {},
   "source": [
    "#### Subset Corpus\n",
    "\n",
    "We split the names corpus into three subsets:\n",
    "1.  Test Set (500 words)\n",
    "2.  Dev-test (500 words)\n",
    "3.  Training Set (Remaining words)"
   ]
  },
  {
   "cell_type": "code",
   "execution_count": 4,
   "metadata": {},
   "outputs": [
    {
     "name": "stdout",
     "output_type": "stream",
     "text": [
      "Testing names count: 500 \n",
      "Development names count: 500 \n",
      "Training names count: 6944\n"
     ]
    }
   ],
   "source": [
    "train_names = labeled_names[1000:]\n",
    "devtest_names = labeled_names[500:1000]\n",
    "test_names = labeled_names[:500]\n",
    "\n",
    "print('Testing names count:',len(test_names),'\\nDevelopment names count:',len(devtest_names),'\\nTraining names count:', len(train_names))"
   ]
  },
  {
   "cell_type": "markdown",
   "metadata": {},
   "source": [
    "## Name-Gender Classifier\n",
    "\n",
    "Task: Start with the example name gender classifier & make incremental improvements. Use the dev-test set to check your progress. Once you are satisfied with your classifier, check its final performance on the test set. \n",
    "\n",
    "#### Example Name-Gender Classifier\n",
    "\n",
    "We used the book example for our first attempt. The function shows us how to create basic features to classify our train and test sets."
   ]
  },
  {
   "cell_type": "code",
   "execution_count": 5,
   "metadata": {},
   "outputs": [
    {
     "name": "stdout",
     "output_type": "stream",
     "text": [
      "Train Accuracy 0.766\n",
      "Example DevTest Accuracy: 0.73\n",
      "Example Test Set Accuracy: 0.758\n"
     ]
    }
   ],
   "source": [
    "# Create function\n",
    "def gender_features(word):\n",
    "    return {'last_letter': word[-1]}\n",
    "\n",
    "# Apply function to train and test data\n",
    "feature_test = [(gender_features(n), gender) for (n, gender) in test_names]\n",
    "feature_devtest = [(gender_features(n), gender) for (n, gender) in devtest_names]\n",
    "feature_train = [(gender_features(n), gender) for (n, gender) in train_names]\n",
    "\n",
    "# Apply naive Bayes algorithm classifier\n",
    "classifier = nltk.NaiveBayesClassifier.train(feature_train)\n",
    "print('Train Accuracy', round(nltk.classify.accuracy(classifier, feature_train),3)) \n",
    "print('Example DevTest Accuracy:', round(nltk.classify.accuracy(classifier, feature_devtest),3)) \n",
    "print('Example Test Set Accuracy:', round(nltk.classify.accuracy(classifier, feature_test),3)) "
   ]
  },
  {
   "cell_type": "markdown",
   "metadata": {},
   "source": [
    "#### Incremental Improvements\n",
    "\n",
    "We found our most informative features, shown below, to create an informative analysis of observed patterns."
   ]
  },
  {
   "cell_type": "code",
   "execution_count": 6,
   "metadata": {
    "scrolled": true
   },
   "outputs": [
    {
     "name": "stdout",
     "output_type": "stream",
     "text": [
      "Most Informative Features\n",
      "             last_letter = 'a'            female : male   =     37.7 : 1.0\n",
      "             last_letter = 'k'              male : female =     28.3 : 1.0\n",
      "             last_letter = 'f'              male : female =     22.0 : 1.0\n",
      "             last_letter = 'p'              male : female =     11.9 : 1.0\n",
      "             last_letter = 'd'              male : female =     10.9 : 1.0\n",
      "             last_letter = 'v'              male : female =      9.8 : 1.0\n",
      "             last_letter = 'o'              male : female =      8.8 : 1.0\n",
      "             last_letter = 'm'              male : female =      8.1 : 1.0\n",
      "             last_letter = 'w'              male : female =      8.0 : 1.0\n",
      "             last_letter = 'r'              male : female =      6.6 : 1.0\n",
      "None\n"
     ]
    }
   ],
   "source": [
    "print(classifier.show_most_informative_features())"
   ]
  },
  {
   "cell_type": "markdown",
   "metadata": {},
   "source": [
    "We took these informative features to improve our second gender functions in an attempt to improve the preditor accurracy of our model.\n",
    "\n",
    "We used the following pattern combinations in order to improve the gender classification:\n",
    "\n",
    "1. Second letter in the name.\n",
    "2. First 3 letters in the name.\n",
    "3. Middle letter of the name.\n",
    "4. Last letter of the name.\n",
    "5. Last 2 letters of the name.\n",
    "6. First 2 letters with the last letter of the name."
   ]
  },
  {
   "cell_type": "code",
   "execution_count": 7,
   "metadata": {},
   "outputs": [],
   "source": [
    "# Improvements function\n",
    "\n",
    "def gender_features_new(word):\n",
    "    word = word.lower()\n",
    "    mid = int(len(word)/2)\n",
    "    return {'comb1': word[1],\n",
    "            'comb2': word[:3],\n",
    "            'comb3': word[mid:mid+5],\n",
    "            'comb4': word[-1],\n",
    "            'comb5': word[-2],\n",
    "            'comb6': word[:2]+word[-1]}"
   ]
  },
  {
   "cell_type": "markdown",
   "metadata": {},
   "source": [
    "We first worked with the training and the development datasets until we felt confident with our model. Then, we applied function on the test dataset."
   ]
  },
  {
   "cell_type": "code",
   "execution_count": 8,
   "metadata": {},
   "outputs": [],
   "source": [
    "# Apply function to train, devtest, and test datasets\n",
    "train_set = [(gender_features_new(n), gender) for (n, gender) in train_names]\n",
    "devtest_set = [(gender_features_new(n), gender) for (n, gender) in devtest_names]\n",
    "test_set = [(gender_features_new(n), gender) for (n, gender) in test_names]"
   ]
  },
  {
   "cell_type": "markdown",
   "metadata": {},
   "source": [
    "To improve our model, we used the following loop to iterate through the devtest names and call the gender functions to identify which of our gender prediction were off."
   ]
  },
  {
   "cell_type": "code",
   "execution_count": 9,
   "metadata": {},
   "outputs": [],
   "source": [
    "errors = []\n",
    "for (name, tag) in devtest_names:\n",
    "    guess = classifier.classify(gender_features_new(name))\n",
    "    if guess != tag:\n",
    "        errors.append( (tag, guess, name) )"
   ]
  },
  {
   "cell_type": "markdown",
   "metadata": {},
   "source": [
    "Here, we observe if they are some pattern on the names and that why we start creating combination of letters and selecting those that improve our prediction algorithm."
   ]
  },
  {
   "cell_type": "code",
   "execution_count": 10,
   "metadata": {},
   "outputs": [
    {
     "name": "stdout",
     "output_type": "stream",
     "text": [
      "{'correct': 'male', 'guessing': 'female', 'name': 'Abdul'}\n",
      "{'correct': 'male', 'guessing': 'female', 'name': 'Ace'}\n",
      "{'correct': 'male', 'guessing': 'female', 'name': 'Adger'}\n",
      "{'correct': 'male', 'guessing': 'female', 'name': 'Adolf'}\n",
      "{'correct': 'male', 'guessing': 'female', 'name': 'Aguste'}\n",
      "{'correct': 'male', 'guessing': 'female', 'name': 'Aldis'}\n",
      "{'correct': 'male', 'guessing': 'female', 'name': 'Aldus'}\n",
      "{'correct': 'male', 'guessing': 'female', 'name': 'Aldwin'}\n",
      "{'correct': 'male', 'guessing': 'female', 'name': 'Andreas'}\n",
      "{'correct': 'male', 'guessing': 'female', 'name': 'Antoine'}\n",
      "{'correct': 'male', 'guessing': 'female', 'name': 'Antone'}\n",
      "{'correct': 'male', 'guessing': 'female', 'name': 'Armond'}\n",
      "{'correct': 'male', 'guessing': 'female', 'name': 'Ashton'}\n",
      "{'correct': 'male', 'guessing': 'female', 'name': 'Aub'}\n",
      "{'correct': 'male', 'guessing': 'female', 'name': 'Ave'}\n",
      "{'correct': 'male', 'guessing': 'female', 'name': 'Bartlet'}\n",
      "{'correct': 'male', 'guessing': 'female', 'name': 'Benjie'}\n",
      "{'correct': 'male', 'guessing': 'female', 'name': 'Beowulf'}\n",
      "{'correct': 'male', 'guessing': 'female', 'name': 'Berkley'}\n",
      "{'correct': 'male', 'guessing': 'female', 'name': 'Bertrand'}\n",
      "{'correct': 'male', 'guessing': 'female', 'name': 'Bjorn'}\n",
      "{'correct': 'male', 'guessing': 'female', 'name': 'Blaine'}\n",
      "{'correct': 'male', 'guessing': 'female', 'name': 'Broddie'}\n",
      "{'correct': 'male', 'guessing': 'female', 'name': 'Broddy'}\n",
      "{'correct': 'male', 'guessing': 'female', 'name': 'Brooke'}\n",
      "{'correct': 'male', 'guessing': 'female', 'name': 'Buster'}\n",
      "{'correct': 'male', 'guessing': 'female', 'name': 'Carter'}\n",
      "{'correct': 'male', 'guessing': 'female', 'name': 'Casey'}\n",
      "{'correct': 'male', 'guessing': 'female', 'name': 'Cass'}\n",
      "{'correct': 'male', 'guessing': 'female', 'name': 'Chaddie'}\n",
      "{'correct': 'male', 'guessing': 'female', 'name': 'Chaunce'}\n",
      "{'correct': 'male', 'guessing': 'female', 'name': 'Chelton'}\n",
      "{'correct': 'male', 'guessing': 'female', 'name': 'Chester'}\n",
      "{'correct': 'male', 'guessing': 'female', 'name': 'Christoph'}\n",
      "{'correct': 'male', 'guessing': 'female', 'name': 'Clair'}\n",
      "{'correct': 'male', 'guessing': 'female', 'name': 'Cobb'}\n",
      "{'correct': 'male', 'guessing': 'female', 'name': 'Dallas'}\n",
      "{'correct': 'male', 'guessing': 'female', 'name': 'Damien'}\n",
      "{'correct': 'male', 'guessing': 'female', 'name': 'Darrell'}\n",
      "{'correct': 'male', 'guessing': 'female', 'name': 'Darth'}\n",
      "{'correct': 'male', 'guessing': 'female', 'name': 'Davidde'}\n",
      "{'correct': 'male', 'guessing': 'female', 'name': 'Davis'}\n",
      "{'correct': 'male', 'guessing': 'female', 'name': 'Derek'}\n",
      "{'correct': 'male', 'guessing': 'female', 'name': 'Diego'}\n",
      "{'correct': 'male', 'guessing': 'female', 'name': 'Dietrich'}\n",
      "{'correct': 'male', 'guessing': 'female', 'name': 'Doyle'}\n",
      "{'correct': 'male', 'guessing': 'female', 'name': 'Duffie'}\n",
      "{'correct': 'male', 'guessing': 'female', 'name': 'Dyson'}\n",
      "{'correct': 'male', 'guessing': 'female', 'name': 'Ebeneser'}\n",
      "{'correct': 'male', 'guessing': 'female', 'name': 'Eliott'}\n",
      "{'correct': 'male', 'guessing': 'female', 'name': 'Ellis'}\n",
      "{'correct': 'male', 'guessing': 'female', 'name': 'Ellwood'}\n",
      "{'correct': 'male', 'guessing': 'female', 'name': 'Emil'}\n",
      "{'correct': 'male', 'guessing': 'female', 'name': 'Ev'}\n",
      "{'correct': 'male', 'guessing': 'female', 'name': 'Felipe'}\n",
      "{'correct': 'male', 'guessing': 'female', 'name': 'Ferinand'}\n",
      "{'correct': 'male', 'guessing': 'female', 'name': 'Freemon'}\n",
      "{'correct': 'male', 'guessing': 'female', 'name': 'Gardener'}\n",
      "{'correct': 'male', 'guessing': 'female', 'name': 'Gardner'}\n",
      "{'correct': 'male', 'guessing': 'female', 'name': 'Gaspar'}\n",
      "{'correct': 'male', 'guessing': 'female', 'name': 'Gayle'}\n",
      "{'correct': 'male', 'guessing': 'female', 'name': 'Giavani'}\n",
      "{'correct': 'male', 'guessing': 'female', 'name': 'Giff'}\n",
      "{'correct': 'male', 'guessing': 'female', 'name': 'Gino'}\n",
      "{'correct': 'male', 'guessing': 'female', 'name': 'Godfree'}\n",
      "{'correct': 'male', 'guessing': 'female', 'name': 'Gomer'}\n",
      "{'correct': 'male', 'guessing': 'female', 'name': 'Griff'}\n",
      "{'correct': 'male', 'guessing': 'female', 'name': 'Hadrian'}\n",
      "{'correct': 'male', 'guessing': 'female', 'name': 'Hagan'}\n",
      "{'correct': 'male', 'guessing': 'female', 'name': 'Haleigh'}\n",
      "{'correct': 'male', 'guessing': 'female', 'name': 'Ham'}\n",
      "{'correct': 'male', 'guessing': 'female', 'name': 'Harcourt'}\n",
      "{'correct': 'male', 'guessing': 'female', 'name': 'Harmon'}\n",
      "{'correct': 'male', 'guessing': 'female', 'name': 'Harris'}\n",
      "{'correct': 'male', 'guessing': 'female', 'name': 'Hayward'}\n",
      "{'correct': 'male', 'guessing': 'female', 'name': 'Henry'}\n",
      "{'correct': 'male', 'guessing': 'female', 'name': 'Herrick'}\n",
      "{'correct': 'male', 'guessing': 'female', 'name': 'Hillel'}\n",
      "{'correct': 'male', 'guessing': 'female', 'name': 'Hollis'}\n",
      "{'correct': 'male', 'guessing': 'female', 'name': 'Iago'}\n",
      "{'correct': 'male', 'guessing': 'female', 'name': 'Ingelbert'}\n",
      "{'correct': 'male', 'guessing': 'female', 'name': 'Ingemar'}\n",
      "{'correct': 'male', 'guessing': 'female', 'name': 'Izzy'}\n",
      "{'correct': 'male', 'guessing': 'female', 'name': 'Jackson'}\n",
      "{'correct': 'male', 'guessing': 'female', 'name': 'Jaime'}\n",
      "{'correct': 'male', 'guessing': 'female', 'name': 'Jeramie'}\n",
      "{'correct': 'male', 'guessing': 'female', 'name': 'Jerrold'}\n",
      "{'correct': 'male', 'guessing': 'female', 'name': 'Jessee'}\n",
      "{'correct': 'male', 'guessing': 'female', 'name': 'Jimmy'}\n",
      "{'correct': 'male', 'guessing': 'female', 'name': 'Joey'}\n",
      "{'correct': 'male', 'guessing': 'female', 'name': 'Jonah'}\n",
      "{'correct': 'male', 'guessing': 'female', 'name': 'Joshua'}\n",
      "{'correct': 'male', 'guessing': 'female', 'name': 'Juan'}\n",
      "{'correct': 'male', 'guessing': 'female', 'name': 'Kane'}\n",
      "{'correct': 'male', 'guessing': 'female', 'name': 'Karl'}\n",
      "{'correct': 'male', 'guessing': 'female', 'name': 'Kelwin'}\n",
      "{'correct': 'male', 'guessing': 'female', 'name': 'Konrad'}\n",
      "{'correct': 'male', 'guessing': 'female', 'name': 'Kostas'}\n",
      "{'correct': 'male', 'guessing': 'female', 'name': 'Lane'}\n",
      "{'correct': 'male', 'guessing': 'female', 'name': 'Lee'}\n",
      "{'correct': 'male', 'guessing': 'female', 'name': 'Leroy'}\n",
      "{'correct': 'male', 'guessing': 'female', 'name': 'Lindy'}\n",
      "{'correct': 'male', 'guessing': 'female', 'name': 'Luigi'}\n",
      "{'correct': 'male', 'guessing': 'female', 'name': 'Luther'}\n",
      "{'correct': 'male', 'guessing': 'female', 'name': 'Mack'}\n",
      "{'correct': 'male', 'guessing': 'female', 'name': 'Marmaduke'}\n",
      "{'correct': 'male', 'guessing': 'female', 'name': 'Marshal'}\n",
      "{'correct': 'male', 'guessing': 'female', 'name': 'Maxim'}\n",
      "{'correct': 'male', 'guessing': 'female', 'name': 'Merle'}\n",
      "{'correct': 'male', 'guessing': 'female', 'name': 'Michel'}\n",
      "{'correct': 'male', 'guessing': 'female', 'name': 'Mikael'}\n",
      "{'correct': 'male', 'guessing': 'female', 'name': 'Millicent'}\n",
      "{'correct': 'male', 'guessing': 'female', 'name': 'Mordecai'}\n",
      "{'correct': 'male', 'guessing': 'female', 'name': 'Morse'}\n",
      "{'correct': 'male', 'guessing': 'female', 'name': 'Mortie'}\n",
      "{'correct': 'male', 'guessing': 'female', 'name': 'Newton'}\n",
      "{'correct': 'male', 'guessing': 'female', 'name': 'Nickie'}\n",
      "{'correct': 'male', 'guessing': 'female', 'name': 'Nickolas'}\n",
      "{'correct': 'male', 'guessing': 'female', 'name': 'Niki'}\n",
      "{'correct': 'male', 'guessing': 'female', 'name': 'Odysseus'}\n",
      "{'correct': 'male', 'guessing': 'female', 'name': 'Osmond'}\n",
      "{'correct': 'male', 'guessing': 'female', 'name': 'Ozzy'}\n",
      "{'correct': 'male', 'guessing': 'female', 'name': 'Pablo'}\n",
      "{'correct': 'male', 'guessing': 'female', 'name': 'Parsifal'}\n",
      "{'correct': 'male', 'guessing': 'female', 'name': 'Paulo'}\n",
      "{'correct': 'male', 'guessing': 'female', 'name': 'Pedro'}\n",
      "{'correct': 'male', 'guessing': 'female', 'name': 'Peirce'}\n",
      "{'correct': 'male', 'guessing': 'female', 'name': 'Pete'}\n",
      "{'correct': 'male', 'guessing': 'female', 'name': 'Piggy'}\n",
      "{'correct': 'male', 'guessing': 'female', 'name': 'Piotr'}\n",
      "{'correct': 'male', 'guessing': 'female', 'name': 'Poul'}\n",
      "{'correct': 'male', 'guessing': 'female', 'name': 'Quigman'}\n",
      "{'correct': 'male', 'guessing': 'female', 'name': 'Radcliffe'}\n",
      "{'correct': 'male', 'guessing': 'female', 'name': 'Ramesh'}\n",
      "{'correct': 'male', 'guessing': 'female', 'name': 'Raymund'}\n",
      "{'correct': 'male', 'guessing': 'female', 'name': 'Raymundo'}\n",
      "{'correct': 'male', 'guessing': 'female', 'name': 'Rayner'}\n",
      "{'correct': 'male', 'guessing': 'female', 'name': 'Remington'}\n",
      "{'correct': 'male', 'guessing': 'female', 'name': 'Ricky'}\n",
      "{'correct': 'male', 'guessing': 'female', 'name': 'Rodrick'}\n",
      "{'correct': 'male', 'guessing': 'female', 'name': 'Roscoe'}\n",
      "{'correct': 'male', 'guessing': 'female', 'name': 'Roy'}\n",
      "{'correct': 'male', 'guessing': 'female', 'name': 'Rufus'}\n",
      "{'correct': 'male', 'guessing': 'female', 'name': 'Russ'}\n",
      "{'correct': 'male', 'guessing': 'female', 'name': 'Salem'}\n",
      "{'correct': 'male', 'guessing': 'female', 'name': 'Sammy'}\n",
      "{'correct': 'male', 'guessing': 'female', 'name': 'Seamus'}\n",
      "{'correct': 'male', 'guessing': 'female', 'name': 'Sergei'}\n",
      "{'correct': 'male', 'guessing': 'female', 'name': 'Shannon'}\n",
      "{'correct': 'male', 'guessing': 'female', 'name': 'Shepard'}\n",
      "{'correct': 'male', 'guessing': 'female', 'name': 'Sheppard'}\n",
      "{'correct': 'male', 'guessing': 'female', 'name': 'Sherlock'}\n",
      "{'correct': 'male', 'guessing': 'female', 'name': 'Sibyl'}\n",
      "{'correct': 'male', 'guessing': 'female', 'name': 'Sollie'}\n",
      "{'correct': 'male', 'guessing': 'female', 'name': 'Somerset'}\n",
      "{'correct': 'male', 'guessing': 'female', 'name': 'Spence'}\n",
      "{'correct': 'male', 'guessing': 'female', 'name': 'Stacy'}\n",
      "{'correct': 'male', 'guessing': 'female', 'name': 'Stefano'}\n",
      "{'correct': 'male', 'guessing': 'female', 'name': 'Stevy'}\n",
      "{'correct': 'male', 'guessing': 'female', 'name': 'Sully'}\n",
      "{'correct': 'male', 'guessing': 'female', 'name': 'Sylvan'}\n",
      "{'correct': 'male', 'guessing': 'female', 'name': 'Terry'}\n",
      "{'correct': 'male', 'guessing': 'female', 'name': 'Thacher'}\n",
      "{'correct': 'male', 'guessing': 'female', 'name': 'Thayne'}\n",
      "{'correct': 'male', 'guessing': 'female', 'name': 'Thebault'}\n",
      "{'correct': 'male', 'guessing': 'female', 'name': 'Theodoric'}\n",
      "{'correct': 'male', 'guessing': 'female', 'name': 'Thornton'}\n",
      "{'correct': 'male', 'guessing': 'female', 'name': 'Thorvald'}\n",
      "{'correct': 'male', 'guessing': 'female', 'name': 'Tobie'}\n",
      "{'correct': 'male', 'guessing': 'female', 'name': 'Tonnie'}\n",
      "{'correct': 'male', 'guessing': 'female', 'name': 'Tore'}\n",
      "{'correct': 'male', 'guessing': 'female', 'name': 'Tucky'}\n",
      "{'correct': 'male', 'guessing': 'female', 'name': 'Udale'}\n",
      "{'correct': 'male', 'guessing': 'female', 'name': 'Udell'}\n",
      "{'correct': 'male', 'guessing': 'female', 'name': 'Ulrich'}\n",
      "{'correct': 'male', 'guessing': 'female', 'name': 'Vaughn'}\n",
      "{'correct': 'male', 'guessing': 'female', 'name': 'Vernen'}\n",
      "{'correct': 'male', 'guessing': 'female', 'name': 'Werner'}\n",
      "{'correct': 'male', 'guessing': 'female', 'name': 'Weylin'}\n",
      "{'correct': 'male', 'guessing': 'female', 'name': 'Whitby'}\n",
      "{'correct': 'male', 'guessing': 'female', 'name': 'Willem'}\n",
      "{'correct': 'male', 'guessing': 'female', 'name': 'Willmott'}\n",
      "{'correct': 'male', 'guessing': 'female', 'name': 'Worden'}\n",
      "{'correct': 'male', 'guessing': 'female', 'name': 'Worthington'}\n",
      "{'correct': 'male', 'guessing': 'female', 'name': 'Yancey'}\n",
      "{'correct': 'male', 'guessing': 'female', 'name': 'Yard'}\n",
      "{'correct': 'male', 'guessing': 'female', 'name': 'Zebulen'}\n",
      "\n",
      "\n",
      "Total Errors: 187\n"
     ]
    }
   ],
   "source": [
    "for (tag_gender_name, guess_name, name) in sorted(errors):\n",
    "        print({'correct': tag_gender_name,\n",
    "               'guessing':guess_name,\n",
    "               'name':name})\n",
    "        \n",
    "print('\\n\\nTotal Errors:', len(errors))"
   ]
  },
  {
   "cell_type": "markdown",
   "metadata": {},
   "source": [
    "#### Final Performance\n",
    "\n",
    "We used the Naives Bayes classifier on our train dataset and measured the accuracy of the devtest and test datasets again. We were satisfied with our accuracy improvements upon this final attempt.\n",
    "\n",
    "Our new classification patterns helped improve our prediction accuracy. In both cases our results were above 80%."
   ]
  },
  {
   "cell_type": "code",
   "execution_count": 11,
   "metadata": {},
   "outputs": [
    {
     "name": "stdout",
     "output_type": "stream",
     "text": [
      "Train Accuracy 0.896\n",
      "DevTest Accuracy 0.804\n",
      "TestSet Accuracy: 0.84\n"
     ]
    }
   ],
   "source": [
    "classifier = nltk.NaiveBayesClassifier.train(train_set) \n",
    "\n",
    "# Store results for analysis\n",
    "NLTK_score_X = round(nltk.classify.accuracy(classifier, train_set),3)\n",
    "NLTK_score_y_dev = round(nltk.classify.accuracy(classifier, devtest_set),3)\n",
    "NLTK_score_y = round(nltk.classify.accuracy(classifier, test_set),3)\n",
    "\n",
    "NLTK_Results = pd.DataFrame([[NLTK_score_X,NLTK_score_y]]).rename(index={0:'NLTK_NBC'})\n",
    "\n",
    "print('Train Accuracy', NLTK_score_X) \n",
    "print('DevTest Accuracy', NLTK_score_y_dev) \n",
    "print('TestSet Accuracy:', NLTK_score_y) "
   ]
  },
  {
   "cell_type": "markdown",
   "metadata": {},
   "source": [
    "## Sklearn Approach\n",
    "\n",
    "After we tried with `nltk` package, we also tried a few approaches using the `sklearn` package to see how other types of machine learning and modeling could improve our acurracy. \n",
    "\n",
    "#### Prepare Dataset\n",
    "\n",
    "To prepare our model, we created a new gender feature from the previews one that we use for the nltk predictor model and added some new changes to the features. We created a new dataset for easy access to our data and called the features function to obtain organized data within a classified array.\n",
    "\n",
    "We called the function our dataset splits to retrieve the names and gender and set these variables as x and y for training and testing purposes."
   ]
  },
  {
   "cell_type": "code",
   "execution_count": 12,
   "metadata": {},
   "outputs": [],
   "source": [
    "# turn test/train into dataframe to ease accessing\n",
    "test_df = pd.DataFrame(test_names)\n",
    "train_df = pd.DataFrame(train_names)\n",
    "\n",
    "# Define feature function\n",
    "def gender_features_new_2(word):\n",
    "    word = word.lower()\n",
    "    mid = int(len(word)/2)\n",
    "    return {'comb1': word[1],\n",
    "            'comb2': word[:3],\n",
    "            'comb3': word[mid:mid+3],\n",
    "            'comb4': word[-1],\n",
    "            'comb5': word[-2],\n",
    "            'comb6': word[:1]+word[-1]}\n",
    "\n",
    "# Vectorize function \n",
    "func_gender = np.vectorize(gender_features_new_2)\n",
    "\n",
    "# Apply function to dataframes\n",
    "X_train, y_train = func_gender(train_df[0]), train_df[1]\n",
    "X_test, y_test = func_gender(test_df[0]), test_df[1]\n",
    "\n",
    "vectorizer = DictVectorizer()\n",
    "\n",
    "#we fit the train data onto vectorize dictionary \n",
    "vect = vectorizer.fit(X_train)"
   ]
  },
  {
   "cell_type": "markdown",
   "metadata": {},
   "source": [
    "This is how the name are after we call the function and return the vectorized array."
   ]
  },
  {
   "cell_type": "code",
   "execution_count": 13,
   "metadata": {},
   "outputs": [
    {
     "name": "stdout",
     "output_type": "stream",
     "text": [
      "[{'comb1': 'a', 'comb2': 'cat', 'comb3': 'thy', 'comb4': 'y', 'comb5': 'h', 'comb6': 'cy'}\n",
      " {'comb1': 'a', 'comb2': 'mar', 'comb3': 'rk', 'comb4': 'k', 'comb5': 'r', 'comb6': 'mk'}]\n"
     ]
    }
   ],
   "source": [
    "print(func_gender(['Cathy',\"Mark\"]))"
   ]
  },
  {
   "cell_type": "markdown",
   "metadata": {},
   "source": [
    "#### Multinomial Model\n",
    "\n",
    "We first tried a Naive Bayes classifier again, but this time using functions from the sklearn package. Our result were comparable with our final nltk attempt."
   ]
  },
  {
   "cell_type": "code",
   "execution_count": 14,
   "metadata": {},
   "outputs": [
    {
     "name": "stdout",
     "output_type": "stream",
     "text": [
      "Train Accuracy: 0.8661\n",
      "Test Accuracy: 0.84\n"
     ]
    }
   ],
   "source": [
    "# Fit Naive Bayes classifier \n",
    "clf = MultinomialNB()\n",
    "clf.fit(vect.transform(X_train),y_train)\n",
    "\n",
    "# Store results for analysis\n",
    "NBC_test = round(clf.score(vect.transform(X_test), y_test),4)\n",
    "NBC_train = round(clf.score(vect.transform(X_train), y_train),4)\n",
    "\n",
    "NBC_Results = pd.DataFrame([[NBC_test,NBC_train]]).rename(index={0:'SK_NBC'})\n",
    "\n",
    "# View results\n",
    "print(\"Train Accuracy: \" + str(NBC_train))\n",
    "print(\"Test Accuracy: \" + str(NBC_test))"
   ]
  },
  {
   "cell_type": "markdown",
   "metadata": {},
   "source": [
    "#### Linear Model\n",
    "\n",
    "We next fitted our data using a Stochastic Gradient Descent (SGD) approach on a linear model. This improved the accuracy of our training data, but the accuracy of our test sets slightly decreased. "
   ]
  },
  {
   "cell_type": "code",
   "execution_count": 15,
   "metadata": {},
   "outputs": [
    {
     "name": "stdout",
     "output_type": "stream",
     "text": [
      "Train Accuracy: 0.9291\n",
      "Test Accuracy: 0.828\n"
     ]
    }
   ],
   "source": [
    "# Fit SGD classifier \n",
    "SGD = SGDClassifier(max_iter=1000, tol=0.001,random_state=1)\n",
    "SGD.fit(vect.transform(X_train),y_train)\n",
    "\n",
    "# Store results for analysis\n",
    "SGD_test= round(SGD.score(vect.transform(X_test), y_test),4)\n",
    "SGD_train = round(SGD.score(vect.transform(X_train), y_train),4)\n",
    "\n",
    "SGD_Results = pd.DataFrame([[SGD_train,SGD_test]]).rename(index={0:'SGD'})\n",
    "\n",
    "# View results\n",
    "print(\"Train Accuracy: \" + str(SGD_train))\n",
    "print(\"Test Accuracy: \" + str(SGD_test))"
   ]
  },
  {
   "cell_type": "markdown",
   "metadata": {},
   "source": [
    "#### Decision Tree Model\n",
    "\n",
    "In our final attempt, we used the `RandomForestClassifier` to improve our accuracy and avoid the overfitting we observed with the linear approach. However, we found that our train accuracy increased again while our testing accuracies decreased. "
   ]
  },
  {
   "cell_type": "code",
   "execution_count": 16,
   "metadata": {},
   "outputs": [
    {
     "name": "stdout",
     "output_type": "stream",
     "text": [
      "Train Accuracy: 0.9512\n",
      "Test Accuracy: 0.788\n"
     ]
    }
   ],
   "source": [
    "# Fit RFC classifier \n",
    "RFC = RandomForestClassifier(n_estimators=10,random_state=1)\n",
    "RFC.fit(vect.transform(X_train),y_train)\n",
    "\n",
    "# Store results for analysis\n",
    "RFC_test = round(RFC.score(vect.transform(X_test), y_test),4)\n",
    "RFC_train = round(RFC.score(vect.transform(X_train), y_train),4)\n",
    "\n",
    "RFC_Results = pd.DataFrame([[RFC_train,RFC_test]]).rename(index={0:'RFC'})\n",
    "\n",
    "# View results\n",
    "print(\"Train Accuracy: \" + str(RFC_train))\n",
    "print(\"Test Accuracy: \" + str(RFC_test))"
   ]
  },
  {
   "cell_type": "markdown",
   "metadata": {},
   "source": [
    "## Analysis\n",
    "\n",
    "Text mining can be challenging especially at the beginning of the process because you don't know what you find in the data and how easy or challenging can be to work with. one of the challenges that we face its that we know the goal of the project which was to identify if the name was female or male but to get the right features to build a good model for the prediction can be tricky. In order to measure our progress while we trying to improve our first example model from the book, we were asked to create 3 groups of data. The trainig, develoment data, and the testing data.\n",
    "\n",
    "Working with NLTk package we try many times different features against dev_test to improve our model and used the same example functions to obtain the prediction match that was off in order to make changes in our model features.\n",
    "\n",
    "We also use the Scikit-learn package in order to implement more algorithm analysis with different library and compare the results. from this package, we use the following algorithm to work with Naive Bayes, Stochastic Gradient Descent (SGD) and RandomForestClassifier.\n",
    "\n",
    "After concluding with all the different model predictions we can see that one of the issues is that working with the dev_test (development) NLTK and Training data Scikit-learn is that we tend to overfit our model and later when we test against the Test set we get a little smaller Accuracy rate. But most of the model predictions were between a range of 0.78 - 0.84.\n",
    "\n",
    "\n"
   ]
  },
  {
   "cell_type": "code",
   "execution_count": 17,
   "metadata": {},
   "outputs": [
    {
     "data": {
      "text/html": [
       "<div>\n",
       "<style scoped>\n",
       "    .dataframe tbody tr th:only-of-type {\n",
       "        vertical-align: middle;\n",
       "    }\n",
       "\n",
       "    .dataframe tbody tr th {\n",
       "        vertical-align: top;\n",
       "    }\n",
       "\n",
       "    .dataframe thead th {\n",
       "        text-align: right;\n",
       "    }\n",
       "</style>\n",
       "<table border=\"1\" class=\"dataframe\">\n",
       "  <thead>\n",
       "    <tr style=\"text-align: right;\">\n",
       "      <th></th>\n",
       "      <th>Train</th>\n",
       "      <th>Test</th>\n",
       "    </tr>\n",
       "  </thead>\n",
       "  <tbody>\n",
       "    <tr>\n",
       "      <th>NLTK_NBC</th>\n",
       "      <td>0.8960</td>\n",
       "      <td>0.8400</td>\n",
       "    </tr>\n",
       "    <tr>\n",
       "      <th>SK_NBC</th>\n",
       "      <td>0.8400</td>\n",
       "      <td>0.8661</td>\n",
       "    </tr>\n",
       "    <tr>\n",
       "      <th>SGD</th>\n",
       "      <td>0.9291</td>\n",
       "      <td>0.8280</td>\n",
       "    </tr>\n",
       "    <tr>\n",
       "      <th>RFC</th>\n",
       "      <td>0.9512</td>\n",
       "      <td>0.7880</td>\n",
       "    </tr>\n",
       "  </tbody>\n",
       "</table>\n",
       "</div>"
      ],
      "text/plain": [
       "           Train    Test\n",
       "NLTK_NBC  0.8960  0.8400\n",
       "SK_NBC    0.8400  0.8661\n",
       "SGD       0.9291  0.8280\n",
       "RFC       0.9512  0.7880"
      ]
     },
     "execution_count": 17,
     "metadata": {},
     "output_type": "execute_result"
    }
   ],
   "source": [
    "NLTK_Results.append(NBC_Results).append(SGD_Results).append(RFC_Results).rename(columns={0:\"Train\", 1:\"Test\"})"
   ]
  },
  {
   "cell_type": "markdown",
   "metadata": {},
   "source": [
    "### References "
   ]
  },
  {
   "cell_type": "markdown",
   "metadata": {},
   "source": [
    "1. https://www.nltk.org/book/ch06.html#fig-supervised-classification\n",
    "2. https://scikit-learn.org/stable/modules/generated/sklearn.ensemble.RandomForestClassifier.html\n",
    "3. https://nlpforhackers.io/introduction-machine-learning/"
   ]
  }
 ],
 "metadata": {
  "kernelspec": {
   "display_name": "Python 3",
   "language": "python",
   "name": "python3"
  },
  "language_info": {
   "codemirror_mode": {
    "name": "ipython",
    "version": 3
   },
   "file_extension": ".py",
   "mimetype": "text/x-python",
   "name": "python",
   "nbconvert_exporter": "python",
   "pygments_lexer": "ipython3",
   "version": "3.6.8"
  }
 },
 "nbformat": 4,
 "nbformat_minor": 2
}
