{
 "cells": [
  {
   "cell_type": "markdown",
   "metadata": {},
   "source": [
    "#### Data 620 - Assignment 5 <br> Juliann McEachern <br> June 26, 2019\n",
    "\n",
    "## <center> \"High Frequency Words\" </center>\n",
    "\n",
    "In this week's assignment, you are asked to analyze high frequency words. Please answer the following questions in an IPython Notebook, posted to GitHub. \n",
    " \n",
    "1. Choose a corpus of interest. \n",
    "2. How many total unique words are in the corpus?  (Please feel free to define unique words in any interesting, defensible way). \n",
    "3. Taking the most common words, how many unique words represent half of the total words in the corpus? \n",
    "4. Identify the 200 highest frequency words in this corpus. 5. Create a graph that shows the relative frequency of these 200 words. \n",
    "6. Does the observed relative frequency of these words follow Zipf’s law?  Explain. \n",
    "7. In what ways do you think the frequency of the words in this corpus differ from “all words in all corpora."
   ]
  },
  {
   "cell_type": "code",
   "execution_count": null,
   "metadata": {},
   "outputs": [],
   "source": []
  }
 ],
 "metadata": {
  "kernelspec": {
   "display_name": "Python 2",
   "language": "python",
   "name": "python2"
  }
 },
 "nbformat": 4,
 "nbformat_minor": 2
}
