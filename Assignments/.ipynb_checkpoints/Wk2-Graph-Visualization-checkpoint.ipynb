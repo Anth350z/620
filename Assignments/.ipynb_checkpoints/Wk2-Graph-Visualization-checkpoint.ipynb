{
 "cells": [
  {
   "cell_type": "markdown",
   "metadata": {},
   "source": [
    "#### Data 620 - Assignment 2 <br> Juliann McEachern <br> June 12, 2019\n",
    "\n",
    "## <center> “Graph Visualization” </center>\n",
    "\n",
    "This week's assignment is to:\n",
    "1.  Load a graph database of your choosing from a text file or other source.  If you take a large network dataset from the web (such as from Stanford Large Network Dataset Collection), please feel free at this point to load just a small subset of the nodes and edges.\n",
    "2.  Create basic analysis on the graph, including the graph’s diameter, and at least one other metric of your choosing.  You may either code the functions by hand (to build your intuition and insight), or use functions in an existing package. \n",
    "3.  Use a visualization tool of your choice (Neo4j, Gephi, etc.) to display information.\n",
    "4.  Please record a short video (~ 5 minutes), and submit a link to the video in advance of our meet-up.\n",
    "\n",
    "You may work in a small group on this project.  Parts one and two should be posted to GitHub and submitted in your assignment link by end of day Wednesday June 12th. "
   ]
  },
  {
   "cell_type": "code",
   "execution_count": null,
   "metadata": {},
   "outputs": [],
   "source": []
  }
 ],
 "metadata": {
  "kernelspec": {
   "display_name": "Python 2",
   "language": "python",
   "name": "python2"
  }
 },
 "nbformat": 4,
 "nbformat_minor": 2
}
