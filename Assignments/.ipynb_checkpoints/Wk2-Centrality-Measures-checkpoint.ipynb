{
 "cells": [
  {
   "cell_type": "markdown",
   "metadata": {},
   "source": [
    "#### Data 620 - Assignment 3 <br>June 12, 2019<br>Team 2: <ul> <li>Anthony Munoz</li> <li>Katie Evers</li> <li>Juliann McEachern</li> <li>Mia Siracusa</li></ul>\n",
    "\n",
    "<h1 align=\"center\">\"Centrality Measures\"</h1>\n",
    "\n",
    "## Overview \n",
    "Centrality measures can be used to predict (positive or negative) outcomes for a node.\n",
    "\n",
    "Your task in this week’s assignment is to identify an interesting set of network data that is available on the web (either through web scraping or web APIs) that could be used for analyzing and comparing centrality measures across nodes.  As an additional constraint, there should be at least one categorical variable available for each node (such as “Male” or “Female”; “Republican”, “Democrat,” or “Undecided”, etc.)\n",
    "\n",
    "In addition to identifying your data source, you should create a high level plan that describes how you would load the data for analysis, and describe a hypothetical outcome that could be predicted from comparing degree centrality across categorical groups. \n",
    "\n",
    "For this week’s assignment, you are not required to actually load or analyze the data.  Please see also Project 1 below.\n",
    "You may work in a small group on the assignment.   You should post your document to GitHub by end of day on Wednesday 6/12."
   ]
  },
  {
   "cell_type": "markdown",
   "metadata": {},
   "source": [
    "## Solution \n",
    "#### Data Source \n",
    "\n",
    "For this assigment, we going to use the Amazon reviews Customers Who Bought This Item Also Bought dataset from the Standford University data web. and the data link is https://snap.stanford.edu/data/amazon0302.html. This data contains the following data description:\n",
    "\n",
    "Dataset statistics <br>\n",
    "1.Nodes\t262111 <br>\n",
    "2.Edges\t1234877 \n",
    "\n",
    "Some of the how the data it related and from when is collected I will post the quoted website information \n",
    "\"Network was collected by crawling Amazon website. It is based on Customers Who Bought This Item Also Bought feature of the Amazon website. If a product i is frequently co-purchased with product j, the graph contains a directed edge from i to j.\n",
    "The data was collected in March 02 2003.\"\n",
    "\n",
    "For the Categorical value, we can think we can try to use the articles categories and use that as reference variables for better understanding and analysis."
   ]
  },
  {
   "cell_type": "markdown",
   "metadata": {},
   "source": [
    "#### Analysis plan\n",
    "\n",
    "This is dataset can be download from the Standoform website and we planning to unzip the file, organize it on CSV file and later we can put it on a cloud Database. After the data, it's on the cloud will be much easy for the group to work and access the data from the cloud without having locally.\n",
    "\n",
    "We will be working on the nodes and after doing some centrality measure comparations we can select the most positive nodes. working with a subset data from the mode positive node we proceed to match the nodes id number with the categorical names in order to further the analysis. \n",
    "\n",
    "on the website, I saw more dataset also from Amazon company. we can try to use a combination if we can find some correction between some of the other variables on those datasets.\n",
    "\n",
    "From this University of California, San Diego's [website](http://jmcauley.ucsd.edu/data/amazon/), we can look at the Amazon dataset list from which we think we can try work with our picked dataset. "
   ]
  },
  {
   "cell_type": "markdown",
   "metadata": {},
   "source": [
    "#### Data Source Citations\n",
    "\n",
    "> 1.  Amazon product co-purchasing network, March 02 2003. (n.d.). Retrieved from https://snap.stanford.edu/data/amazon0302.html  \n",
    "2.  J. Leskovec, L. Adamic and B. Adamic. The Dynamics of Viral Marketing. ACM Transactions on the Web (ACM TWEB), 1(1), 2007.\n",
    "3.  McAuley, J. (n.d.). Amazon product data. Retrieved from http://jmcauley.ucsd.edu/data/amazon/"
   ]
  }
 ],
 "metadata": {
  "kernelspec": {
   "display_name": "Python 3",
   "language": "python",
   "name": "python3"
  },
  "language_info": {
   "codemirror_mode": {
    "name": "ipython",
    "version": 3
   },
   "file_extension": ".py",
   "mimetype": "text/x-python",
   "name": "python",
   "nbconvert_exporter": "python",
   "pygments_lexer": "ipython3",
   "version": "3.7.3"
  }
 },
 "nbformat": 4,
 "nbformat_minor": 2
}
