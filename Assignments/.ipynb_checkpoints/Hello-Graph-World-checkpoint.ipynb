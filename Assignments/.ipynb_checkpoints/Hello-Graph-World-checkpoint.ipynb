{
 "cells": [
  {
   "attachments": {},
   "cell_type": "markdown",
   "metadata": {},
   "source": [
    "#### Data 620 - Assignment 1 <br> Juliann McEachern <br> June 5, 2019\n",
    "\n",
    "## <center> “Hello, Graph World” </center>\n",
    "\n",
    "When software developers are starting to work in a new environment, they are encouraged to start with a simple “beachhead” program. In this assignment, you’re asked to create the nodes and edges for a basic graph, such as the Krackhardt kite shown below.  (You’re welcome to substitute data of your own choosing). \n",
    "\n",
    "![Example](images\\example.jpg)\n",
    "\n",
    "You may use a package of your own choosing, such as iGraph or NetworkX, or…?  Your code should be delivered in an IPython notebook, and placed into GitHub.  In your assignment link, please provide a link to your GitHub repository. "
   ]
  },
  {
   "cell_type": "code",
   "execution_count": null,
   "metadata": {},
   "outputs": [],
   "source": []
  },
  {
   "cell_type": "code",
   "execution_count": null,
   "metadata": {},
   "outputs": [],
   "source": []
  }
 ],
 "metadata": {
  "kernelspec": {
   "display_name": "Python 2",
   "language": "python",
   "name": "python2"
  }
 },
 "nbformat": 4,
 "nbformat_minor": 2
}
