{
 "cells": [
  {
   "cell_type": "markdown",
   "metadata": {},
   "source": [
    "#### Data 620 - Assignment 4<br>June 19, 2019<br>Team 2: <ul> <li>Anthony Munoz</li> <li>Katie Evers</li> <li>Juliann McEachern</li> <li>Mia Siracusa</li></ul>\n",
    "\n",
    "<h1 align=\"center\">“Datasets”</h1>\n",
    "\n",
    "Here is a dataset that shows a simple 2-node network:  the attendance of 18 Southern Women at 14 social events:\n",
    "\n",
    "1.  [Brief Description](http://vlado.fmf.uni-lj.si/pub/networks/data/ucinet/ucidata.htm#davis):  Small “musty” datasets like that from this 1941 study have proven very valuable in testing and comparing new network algorithms.\n",
    "2.  [Dataset](http://vlado.fmf.uni-lj.si/pub/networks/data/Ucinet/davis.dat).\n",
    "3. [Python code](https://networkx.readthedocs.io/en/stable/examples/algorithms/davis_club.html) to create dataset. \n",
    "\n",
    "What can you infer about the relationships between (1) the women, and (2) the social events?  \n",
    "\n",
    "Please provide your code and analysis in an IPython notebook stored in your GitHub repository. You may work in a small group on this project. Due end of day Wednesday, 6/19."
   ]
  },
  {
   "cell_type": "code",
   "execution_count": null,
   "metadata": {},
   "outputs": [],
   "source": []
  }
 ],
 "metadata": {
  "kernelspec": {
   "display_name": "Python 3",
   "language": "python",
   "name": "python3"
  },
  "language_info": {
   "codemirror_mode": {
    "name": "ipython",
    "version": 3
   },
   "file_extension": ".py",
   "mimetype": "text/x-python",
   "name": "python",
   "nbconvert_exporter": "python",
   "pygments_lexer": "ipython3",
   "version": "3.7.3"
  }
 },
 "nbformat": 4,
 "nbformat_minor": 2
}
