{
 "cells": [
  {
   "cell_type": "markdown",
   "metadata": {},
   "source": [
    "#### Data 620 - Assignment 1 <br> Hello, Graph World <br> Juliann McEachern <br> June 5, 2019\n",
    "\n",
    "### Overview\n",
    "\n",
    "When software developers are starting to work in a new environment, they are encouraged to start with a simple “beachhead” program. In this assignment, you’re asked to create the nodes and edges for a basic graph, such as the Krackhardt kite shown below.  (You’re welcome to substitute data of your own choosing). \n",
    "\n",
    "![Example](images\\example.jpg)\n",
    "\n",
    "You may use a package of your own choosing, such as iGraph or NetworkX, or…?  Your code should be delivered in an IPython notebook, and placed into GitHub.  In your assignment link, please provide a link to your GitHub repository. \n",
    "\n",
    "### NetworkX Graph\n",
    "\n",
    "The Krackhardt Kite Social Network is a visual illustration of 10 actor social networks created by David Krackhardt. His illustration allows viewers to see things such as degree, betweeness, centrality, and closeness. The `krackhardt_kite_graph` function from the `networkx` package creates a small graph output of this social network. \n"
   ]
  },
  {
   "cell_type": "code",
   "execution_count": 1,
   "metadata": {},
   "outputs": [],
   "source": [
    "import networkx as nx\n",
    "import matplotlib.pyplot as plt\n"
   ]
  },
  {
   "cell_type": "markdown",
   "metadata": {},
   "source": [
    "The following code establishes the nodes and edges for the Krackhardt graph. The output uses the `nx.Graph.degree` function to show the relationship between the nodes and number of adjacent edges."
   ]
  },
  {
   "cell_type": "code",
   "execution_count": 118,
   "metadata": {},
   "outputs": [
    {
     "data": {
      "text/plain": [
       "[('andre', 3),\n",
       " ('beverly', 3),\n",
       " ('carol', 3),\n",
       " ('diane', 6),\n",
       " ('ed', 3),\n",
       " ('fernando', 4),\n",
       " ('garth', 4),\n",
       " ('heather', 3),\n",
       " ('ike', 2),\n",
       " ('jane', 1)]"
      ]
     },
     "execution_count": 118,
     "metadata": {},
     "output_type": "execute_result"
    }
   ],
   "source": [
    "G = nx.krackhardt_kite_graph()\n",
    "\n",
    "edges = [('andre','beverly'),\n",
    "    ('andre','carol'),\n",
    "    ('andre','diane'), \n",
    "    ('beverly','andre'), \n",
    "    ('beverly','diane'), \n",
    "    ('beverly','ed'), \n",
    "    ('carol','andre'), \n",
    "    ('carol','diane'), \n",
    "    ('carol','fernando'), \n",
    "    ('fernando','garth'),\n",
    "    ('fernando','diane'),\n",
    "    ('fernando','carol'),\n",
    "    ('garth','ed'),\n",
    "    ('garth','diane'),\n",
    "    ('garth','fernando'),\n",
    "    ('garth','heather'),\n",
    "    ('ed','beverly'),\n",
    "    ('ed','diane'),\n",
    "    ('ed','garth'),\n",
    "    ('heather','fernando'),\n",
    "    ('heather','garth'),\n",
    "    ('heather','ike'),\n",
    "    ('ike','heather'),\n",
    "    ('ike','jane'),\n",
    "    ('jane','ike')]\n",
    "\n",
    "G.add_edges_from(edges)\n",
    "\n",
    "list(G.degree)[10:20]"
   ]
  },
  {
   "cell_type": "markdown",
   "metadata": {},
   "source": [
    "The final graph output is created below. Iteration is used to plot the network position with labels names instead of the default value number. "
   ]
  },
  {
   "cell_type": "code",
   "execution_count": 119,
   "metadata": {},
   "outputs": [
    {
     "data": {
      "image/png": "[encoded data removed]",
      "text/plain": [
       "<Figure size 432x288 with 1 Axes>"
      ]
     },
     "metadata": {
      "needs_background": "light"
     },
     "output_type": "display_data"
    }
   ],
   "source": [
    "# create dictionary with nodes as keys and positions as values \n",
    "pos_dict = nx.spring_layout(G)\n",
    "\n",
    "nodes = [0, 1, 2, 3, 4, 5, 6, 7, 8, 9]\n",
    "names = ['Andre', 'Beverley', 'Carol', 'Diane', 'Ed', 'Fernando',\n",
    "             'Garth','Heather','Ike','Jane']\n",
    "\n",
    "# iteration makes a list of node number with corresponding name \n",
    "nodelist = {}\n",
    "for i in nodes:\n",
    "    nodelist[i] = names[i]\n",
    "\n",
    "\n",
    "# draws nodes, edges, and lables for graph G\n",
    "nx.draw_networkx_nodes(G,pos_dict,nodelist,node_size=500, node_color='lavender')\n",
    "nx.draw_networkx_edges(G,pos_dict,edge_color='lightgray',width=5)\n",
    "nx.draw_networkx_labels(G,pos_dict,nodelist)\n",
    "\n",
    "# remove axis from graph \n",
    "plt.axis('off')\n",
    "plt.show()"
   ]
  }
 ],
 "metadata": {
  "kernelspec": {
   "display_name": "Python 3",
   "language": "python",
   "name": "python3"
  },
  "language_info": {
   "codemirror_mode": {
    "name": "ipython",
    "version": 3
   },
   "file_extension": ".py",
   "mimetype": "text/x-python",
   "name": "python",
   "nbconvert_exporter": "python",
   "pygments_lexer": "ipython3",
   "version": "3.7.2"
  }
 },
 "nbformat": 4,
 "nbformat_minor": 2
}
